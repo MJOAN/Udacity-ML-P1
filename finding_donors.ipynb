{
 "cells": [
  {
   "cell_type": "markdown",
   "metadata": {},
   "source": [
    "## Supervised Learning\n",
    "## Project: Finding Donors for *CharityML*\n",
    "- Python 3.7"
   ]
  },
  {
   "cell_type": "markdown",
   "metadata": {},
   "source": [
    "## Getting Started\n",
    "\n",
    "In this project, you will employ several supervised algorithms of your choice to accurately model individuals' income using data collected from the 1994 U.S. Census. You will then choose the best candidate algorithm from preliminary results and further optimize this algorithm to best model the data. \n",
    "\n",
    ">> Your goal with this implementation is to construct a model that accurately predicts whether an individual makes more than `$50,000`. \n",
    "\n",
    "This sort of task can arise in a non-profit setting, where organizations survive on donations.  Understanding an individual's income can help a non-profit better understand how large of a donation to request, or whether or not they should reach out to begin with.  While it can be difficult to determine an individual's general income bracket directly from public sources, we can (as we will see) infer this value from other publically available features. \n",
    "\n",
    "The dataset for this project originates from the [UCI Machine Learning Repository](https://archive.ics.uci.edu/ml/datasets/Census+Income). The datset was donated by Ron Kohavi and Barry Becker, after being published in the article _\"Scaling Up the Accuracy of Naive-Bayes Classifiers: A Decision-Tree Hybrid\"_. You can find the article by Ron Kohavi [online](https://www.aaai.org/Papers/KDD/1996/KDD96-033.pdf). The data we investigate here consists of small changes to the original dataset, such as removing the `'fnlwgt'` feature and records with missing or ill-formatted entries."
   ]
  },
  {
   "cell_type": "markdown",
   "metadata": {},
   "source": [
    "----\n",
    "## Exploring the Data\n",
    "Run the code cell below to load necessary Python libraries and load the census data. Note that the last column from this dataset, `'income'`, will be our target label (whether an individual makes more than, or at most, $50,000 annually). All other columns are features about each individual in the census database."
   ]
  },
  {
   "cell_type": "code",
   "execution_count": 91,
   "metadata": {},
   "outputs": [
    {
     "data": {
      "text/html": [
       "<style>.container { width:100% !important; }</style>"
      ],
      "text/plain": [
       "<IPython.core.display.HTML object>"
      ]
     },
     "metadata": {},
     "output_type": "display_data"
    }
   ],
   "source": [
    "from IPython.display import display, HTML\n",
    "display(HTML(\"<style>.container { width:100% !important; }</style>\"))\n",
    "\n",
    "import numpy as np\n",
    "import pandas as pd\n",
    "import seaborn as sns\n",
    "import visuals as vs\n",
    "\n",
    "%matplotlib inline\n",
    "\n",
    "from time import time\n",
    "from IPython.display import display "
   ]
  },
  {
   "cell_type": "code",
   "execution_count": 92,
   "metadata": {},
   "outputs": [
    {
     "data": {
      "text/html": [
       "<div>\n",
       "<style scoped>\n",
       "    .dataframe tbody tr th:only-of-type {\n",
       "        vertical-align: middle;\n",
       "    }\n",
       "\n",
       "    .dataframe tbody tr th {\n",
       "        vertical-align: top;\n",
       "    }\n",
       "\n",
       "    .dataframe thead th {\n",
       "        text-align: right;\n",
       "    }\n",
       "</style>\n",
       "<table border=\"1\" class=\"dataframe\">\n",
       "  <thead>\n",
       "    <tr style=\"text-align: right;\">\n",
       "      <th></th>\n",
       "      <th>age</th>\n",
       "      <th>workclass</th>\n",
       "      <th>education_level</th>\n",
       "      <th>education-num</th>\n",
       "      <th>marital-status</th>\n",
       "      <th>occupation</th>\n",
       "      <th>relationship</th>\n",
       "      <th>race</th>\n",
       "      <th>sex</th>\n",
       "      <th>capital-gain</th>\n",
       "      <th>capital-loss</th>\n",
       "      <th>hours-per-week</th>\n",
       "      <th>native-country</th>\n",
       "      <th>income</th>\n",
       "    </tr>\n",
       "  </thead>\n",
       "  <tbody>\n",
       "    <tr>\n",
       "      <th>0</th>\n",
       "      <td>39</td>\n",
       "      <td>State-gov</td>\n",
       "      <td>Bachelors</td>\n",
       "      <td>13.0</td>\n",
       "      <td>Never-married</td>\n",
       "      <td>Adm-clerical</td>\n",
       "      <td>Not-in-family</td>\n",
       "      <td>White</td>\n",
       "      <td>Male</td>\n",
       "      <td>2174.0</td>\n",
       "      <td>0.0</td>\n",
       "      <td>40.0</td>\n",
       "      <td>United-States</td>\n",
       "      <td>&lt;=50K</td>\n",
       "    </tr>\n",
       "  </tbody>\n",
       "</table>\n",
       "</div>"
      ],
      "text/plain": [
       "   age   workclass education_level  education-num  marital-status  \\\n",
       "0   39   State-gov       Bachelors           13.0   Never-married   \n",
       "\n",
       "      occupation    relationship    race    sex  capital-gain  capital-loss  \\\n",
       "0   Adm-clerical   Not-in-family   White   Male        2174.0           0.0   \n",
       "\n",
       "   hours-per-week  native-country income  \n",
       "0            40.0   United-States  <=50K  "
      ]
     },
     "metadata": {},
     "output_type": "display_data"
    }
   ],
   "source": [
    "data = pd.read_csv(\"census.csv\")\n",
    "display(data.head(n=1))"
   ]
  },
  {
   "cell_type": "code",
   "execution_count": 93,
   "metadata": {},
   "outputs": [
    {
     "data": {
      "text/plain": [
       "<=50K    34014\n",
       ">50K     11208\n",
       "Name: income, dtype: int64"
      ]
     },
     "execution_count": 93,
     "metadata": {},
     "output_type": "execute_result"
    }
   ],
   "source": [
    "data.income.value_counts()"
   ]
  },
  {
   "cell_type": "markdown",
   "metadata": {},
   "source": [
    "### Implementation: Data Exploration\n",
    "A cursory investigation of the dataset will determine how many individuals fit into either group, and will tell us about the percentage of these individuals making more than \\$50,000. In the code cell below, you will need to compute the following:\n",
    "- The total number of records, `'n_records'`\n",
    "- The number of individuals making more than \\$50,000 annually, `'n_greater_50k'`.\n",
    "- The number of individuals making at most \\$50,000 annually, `'n_at_most_50k'`.\n",
    "- The percentage of individuals making more than \\$50,000 annually, `'greater_percent'`.\n",
    "\n",
    "** HINT: ** You may need to look at the table above to understand how the `'income'` entries are formatted. "
   ]
  },
  {
   "cell_type": "code",
   "execution_count": 94,
   "metadata": {},
   "outputs": [],
   "source": [
    "n_records = data.shape[0]  # total # of records"
   ]
  },
  {
   "cell_type": "code",
   "execution_count": 95,
   "metadata": {},
   "outputs": [],
   "source": [
    "n_greater_50k = data[data['income']== '>50K'].shape[0]  # income is more than $50,000"
   ]
  },
  {
   "cell_type": "code",
   "execution_count": 96,
   "metadata": {},
   "outputs": [],
   "source": [
    "n_at_most_50k = data[data['income']== '<=50K'].shape[0] # income is at most $50,000"
   ]
  },
  {
   "cell_type": "code",
   "execution_count": 97,
   "metadata": {},
   "outputs": [],
   "source": [
    "greater_percent = round(n_greater_50k / n_records*100,2)  # % income is more than $50,000"
   ]
  },
  {
   "cell_type": "code",
   "execution_count": 98,
   "metadata": {},
   "outputs": [
    {
     "name": "stdout",
     "output_type": "stream",
     "text": [
      "Total number of records: 45222\n",
      "Individuals making more than $50,000: 11208\n",
      "Individuals making at most $50,000: 34014\n",
      "Percentage of individuals making more than $50,000: 24.78%\n"
     ]
    }
   ],
   "source": [
    "print(\"Total number of records: {}\".format(n_records))\n",
    "print(\"Individuals making more than $50,000: {}\".format(n_greater_50k))\n",
    "print(\"Individuals making at most $50,000: {}\".format(n_at_most_50k))\n",
    "print(\"Percentage of individuals making more than $50,000: {}%\".format(greater_percent))"
   ]
  },
  {
   "cell_type": "markdown",
   "metadata": {},
   "source": [
    "**Featureset Exploration**\n",
    "\n",
    "* **age**: continuous. \n",
    "* **workclass**: Private, Self-emp-not-inc, Self-emp-inc, Federal-gov, Local-gov, State-gov, Without-pay, Never-worked. \n",
    "* **education**: Bachelors, Some-college, 11th, HS-grad, Prof-school, Assoc-acdm, Assoc-voc, 9th, 7th-8th, 12th, Masters, 1st-4th, 10th, Doctorate, 5th-6th, Preschool. \n",
    "* **education-num**: continuous. \n",
    "* **marital-status**: Married-civ-spouse, Divorced, Never-married, Separated, Widowed, Married-spouse-absent, Married-AF-spouse. \n",
    "* **occupation**: Tech-support, Craft-repair, Other-service, Sales, Exec-managerial, Prof-specialty, Handlers-cleaners, Machine-op-inspct, Adm-clerical, Farming-fishing, Transport-moving, Priv-house-serv, Protective-serv, Armed-Forces. \n",
    "* **relationship**: Wife, Own-child, Husband, Not-in-family, Other-relative, Unmarried. \n",
    "* **race**: Black, White, Asian-Pac-Islander, Amer-Indian-Eskimo, Other. \n",
    "* **sex**: Female, Male. \n",
    "* **capital-gain**: continuous. \n",
    "* **capital-loss**: continuous. \n",
    "* **hours-per-week**: continuous. \n",
    "* **native-country**: United-States, Cambodia, England, Puerto-Rico, Canada, Germany, Outlying-US(Guam-USVI-etc), India, Japan, Greece, South, China, Cuba, Iran, Honduras, Philippines, Italy, Poland, Jamaica, Vietnam, Mexico, Portugal, Ireland, France, Dominican-Republic, Laos, Ecuador, Taiwan, Haiti, Columbia, Hungary, Guatemala, Nicaragua, Scotland, Thailand, Yugoslavia, El-Salvador, Trinadad&Tobago, Peru, Hong, Holand-Netherlands."
   ]
  },
  {
   "cell_type": "markdown",
   "metadata": {},
   "source": [
    "----\n",
    "## Preparing the Data\n",
    "Before data can be used as input for machine learning algorithms, it often must be cleaned, formatted, and restructured — this is typically known as **preprocessing**. Fortunately, for this dataset, there are no invalid or missing entries we must deal with, however, there are some qualities about certain features that must be adjusted. This preprocessing can help tremendously with the outcome and predictive power of nearly all learning algorithms."
   ]
  },
  {
   "cell_type": "markdown",
   "metadata": {},
   "source": [
    "### Transforming Skewed Continuous Features\n",
    "A dataset may sometimes contain at least one feature whose values tend to lie near a single number, but will also have a non-trivial number of vastly larger or smaller values than that single number.  Algorithms can be sensitive to such distributions of values and can underperform if the range is not properly normalized. With the census dataset two features fit this description: '`capital-gain'` and `'capital-loss'`. \n",
    "\n",
    "Run the code cell below to plot a histogram of these two features. Note the range of the values present and how they are distributed."
   ]
  },
  {
   "cell_type": "code",
   "execution_count": 99,
   "metadata": {},
   "outputs": [
    {
     "data": {
      "image/png": "[encoded data removed]",
      "text/plain": [
       "<matplotlib.figure.Figure at 0x7efeaceac320>"
      ]
     },
     "metadata": {
      "needs_background": "light"
     },
     "output_type": "display_data"
    }
   ],
   "source": [
    "income_raw = data['income']                           # Split the data into features and target label\n",
    "features_raw = data.drop('income', axis = 1)\n",
    "vs.distribution(data)                                 # Visualize skewed continuous features of original data"
   ]
  },
  {
   "cell_type": "markdown",
   "metadata": {},
   "source": [
    "\n",
    "For highly-skewed feature distributions such as `'capital-gain'` and `'capital-loss'`, it is common practice to apply a <a href=\"https://en.wikipedia.org/wiki/Data_transformation_(statistics)\">logarithmic transformation</a> on the data so that the very large and very small values do not negatively affect the performance of a learning algorithm. Using a logarithmic transformation significantly reduces the range of values caused by outliers. Care must be taken when applying this transformation however: The logarithm of `0` is undefined, so we must translate the values by a small amount above `0` to apply the the logarithm successfully.\n",
    "\n",
    "Run the code cell below to perform a transformation on the data and visualize the results. Again, note the range of values and how they are distributed. "
   ]
  },
  {
   "cell_type": "code",
   "execution_count": 100,
   "metadata": {},
   "outputs": [
    {
     "data": {
      "image/png": "[encoded data removed]",
      "text/plain": [
       "<matplotlib.figure.Figure at 0x7efeacf71358>"
      ]
     },
     "metadata": {
      "needs_background": "light"
     },
     "output_type": "display_data"
    }
   ],
   "source": [
    "skewed = ['capital-gain', 'capital-loss']                   # log-transform skewed features\n",
    "features_log_transformed = pd.DataFrame(data = features_raw)\n",
    "features_log_transformed[skewed] = features_raw[skewed].apply(lambda x: np.log(x + 1))\n",
    "vs.distribution(features_log_transformed, transformed = True)"
   ]
  },
  {
   "cell_type": "markdown",
   "metadata": {},
   "source": [
    "### Normalizing Numerical Features\n",
    "In addition to performing transformations on features that are highly skewed, it is often good practice to perform some type of scaling on numerical features. Applying a scaling to the data does not change the shape of each feature's distribution (such as `'capital-gain'` or `'capital-loss'` above); however, normalization ensures that each feature is treated equally when applying supervised learners. Note that once scaling is applied, observing the data in its raw form will no longer have the same original meaning, as exampled below.\n",
    "\n",
    "Run the code cell below to normalize each numerical feature. We will use [`sklearn.preprocessing.MinMaxScaler`](http://scikit-learn.org/stable/modules/generated/sklearn.preprocessing.MinMaxScaler.html) for this."
   ]
  },
  {
   "cell_type": "code",
   "execution_count": 101,
   "metadata": {},
   "outputs": [
    {
     "data": {
      "text/html": [
       "<div>\n",
       "<style scoped>\n",
       "    .dataframe tbody tr th:only-of-type {\n",
       "        vertical-align: middle;\n",
       "    }\n",
       "\n",
       "    .dataframe tbody tr th {\n",
       "        vertical-align: top;\n",
       "    }\n",
       "\n",
       "    .dataframe thead th {\n",
       "        text-align: right;\n",
       "    }\n",
       "</style>\n",
       "<table border=\"1\" class=\"dataframe\">\n",
       "  <thead>\n",
       "    <tr style=\"text-align: right;\">\n",
       "      <th></th>\n",
       "      <th>age</th>\n",
       "      <th>workclass</th>\n",
       "      <th>education_level</th>\n",
       "      <th>education-num</th>\n",
       "      <th>marital-status</th>\n",
       "      <th>occupation</th>\n",
       "      <th>relationship</th>\n",
       "      <th>race</th>\n",
       "      <th>sex</th>\n",
       "      <th>capital-gain</th>\n",
       "      <th>capital-loss</th>\n",
       "      <th>hours-per-week</th>\n",
       "      <th>native-country</th>\n",
       "    </tr>\n",
       "  </thead>\n",
       "  <tbody>\n",
       "    <tr>\n",
       "      <th>0</th>\n",
       "      <td>0.301370</td>\n",
       "      <td>State-gov</td>\n",
       "      <td>Bachelors</td>\n",
       "      <td>0.800000</td>\n",
       "      <td>Never-married</td>\n",
       "      <td>Adm-clerical</td>\n",
       "      <td>Not-in-family</td>\n",
       "      <td>White</td>\n",
       "      <td>Male</td>\n",
       "      <td>0.667492</td>\n",
       "      <td>0.0</td>\n",
       "      <td>0.397959</td>\n",
       "      <td>United-States</td>\n",
       "    </tr>\n",
       "    <tr>\n",
       "      <th>1</th>\n",
       "      <td>0.452055</td>\n",
       "      <td>Self-emp-not-inc</td>\n",
       "      <td>Bachelors</td>\n",
       "      <td>0.800000</td>\n",
       "      <td>Married-civ-spouse</td>\n",
       "      <td>Exec-managerial</td>\n",
       "      <td>Husband</td>\n",
       "      <td>White</td>\n",
       "      <td>Male</td>\n",
       "      <td>0.000000</td>\n",
       "      <td>0.0</td>\n",
       "      <td>0.122449</td>\n",
       "      <td>United-States</td>\n",
       "    </tr>\n",
       "    <tr>\n",
       "      <th>2</th>\n",
       "      <td>0.287671</td>\n",
       "      <td>Private</td>\n",
       "      <td>HS-grad</td>\n",
       "      <td>0.533333</td>\n",
       "      <td>Divorced</td>\n",
       "      <td>Handlers-cleaners</td>\n",
       "      <td>Not-in-family</td>\n",
       "      <td>White</td>\n",
       "      <td>Male</td>\n",
       "      <td>0.000000</td>\n",
       "      <td>0.0</td>\n",
       "      <td>0.397959</td>\n",
       "      <td>United-States</td>\n",
       "    </tr>\n",
       "    <tr>\n",
       "      <th>3</th>\n",
       "      <td>0.493151</td>\n",
       "      <td>Private</td>\n",
       "      <td>11th</td>\n",
       "      <td>0.400000</td>\n",
       "      <td>Married-civ-spouse</td>\n",
       "      <td>Handlers-cleaners</td>\n",
       "      <td>Husband</td>\n",
       "      <td>Black</td>\n",
       "      <td>Male</td>\n",
       "      <td>0.000000</td>\n",
       "      <td>0.0</td>\n",
       "      <td>0.397959</td>\n",
       "      <td>United-States</td>\n",
       "    </tr>\n",
       "    <tr>\n",
       "      <th>4</th>\n",
       "      <td>0.150685</td>\n",
       "      <td>Private</td>\n",
       "      <td>Bachelors</td>\n",
       "      <td>0.800000</td>\n",
       "      <td>Married-civ-spouse</td>\n",
       "      <td>Prof-specialty</td>\n",
       "      <td>Wife</td>\n",
       "      <td>Black</td>\n",
       "      <td>Female</td>\n",
       "      <td>0.000000</td>\n",
       "      <td>0.0</td>\n",
       "      <td>0.397959</td>\n",
       "      <td>Cuba</td>\n",
       "    </tr>\n",
       "  </tbody>\n",
       "</table>\n",
       "</div>"
      ],
      "text/plain": [
       "        age          workclass education_level  education-num  \\\n",
       "0  0.301370          State-gov       Bachelors       0.800000   \n",
       "1  0.452055   Self-emp-not-inc       Bachelors       0.800000   \n",
       "2  0.287671            Private         HS-grad       0.533333   \n",
       "3  0.493151            Private            11th       0.400000   \n",
       "4  0.150685            Private       Bachelors       0.800000   \n",
       "\n",
       "        marital-status          occupation    relationship    race      sex  \\\n",
       "0        Never-married        Adm-clerical   Not-in-family   White     Male   \n",
       "1   Married-civ-spouse     Exec-managerial         Husband   White     Male   \n",
       "2             Divorced   Handlers-cleaners   Not-in-family   White     Male   \n",
       "3   Married-civ-spouse   Handlers-cleaners         Husband   Black     Male   \n",
       "4   Married-civ-spouse      Prof-specialty            Wife   Black   Female   \n",
       "\n",
       "   capital-gain  capital-loss  hours-per-week  native-country  \n",
       "0      0.667492           0.0        0.397959   United-States  \n",
       "1      0.000000           0.0        0.122449   United-States  \n",
       "2      0.000000           0.0        0.397959   United-States  \n",
       "3      0.000000           0.0        0.397959   United-States  \n",
       "4      0.000000           0.0        0.397959            Cuba  "
      ]
     },
     "metadata": {},
     "output_type": "display_data"
    }
   ],
   "source": [
    "from sklearn.preprocessing import MinMaxScaler\n",
    "\n",
    "scaler = MinMaxScaler() # default=(0, 1)\n",
    "numerical = ['age', 'education-num', 'capital-gain', 'capital-loss', 'hours-per-week']\n",
    "\n",
    "features_log_minmax_transform = pd.DataFrame(data = features_log_transformed)\n",
    "features_log_minmax_transform[numerical] = scaler.fit_transform(features_log_transformed[numerical])\n",
    "display(features_log_minmax_transform.head(n = 5))"
   ]
  },
  {
   "cell_type": "markdown",
   "metadata": {},
   "source": [
    "### Implementation: Data Preprocessing\n",
    "\n",
    "From the table in **Exploring the Data** above, we can see there are several features for each record that are non-numeric. Typically, learning algorithms expect input to be numeric, which requires that non-numeric features (called *categorical variables*) be converted. One popular way to convert categorical variables is by using the **one-hot encoding** scheme. One-hot encoding creates a _\"dummy\"_ variable for each possible category of each non-numeric feature. For example, assume `someFeature` has three possible entries: `A`, `B`, or `C`. We then encode this feature into `someFeature_A`, `someFeature_B` and `someFeature_C`.\n",
    "\n",
    "|   | someFeature |                    | someFeature_A | someFeature_B | someFeature_C |\n",
    "| :-: | :-: |                            | :-: | :-: | :-: |\n",
    "| 0 |  B  |  | 0 | 1 | 0 |\n",
    "| 1 |  C  | ----> one-hot encode ----> | 0 | 0 | 1 |\n",
    "| 2 |  A  |  | 1 | 0 | 0 |\n",
    "\n",
    "Additionally, as with the non-numeric features, we need to convert the non-numeric target label, `'income'` to numerical values for the learning algorithm to work. Since there are only two possible categories for this label (\"<=50K\" and \">50K\"), we can avoid using one-hot encoding and simply encode these two categories as `0` and `1`, respectively. In code cell below, you will need to implement the following:\n",
    " - Use [`pandas.get_dummies()`](http://pandas.pydata.org/pandas-docs/stable/generated/pandas.get_dummies.html?highlight=get_dummies#pandas.get_dummies) to perform one-hot encoding on the `'features_log_minmax_transform'` data.\n",
    " - Convert the target label `'income_raw'` to numerical entries.\n",
    "   - Set records with \"<=50K\" to `0` and records with \">50K\" to `1`."
   ]
  },
  {
   "cell_type": "code",
   "execution_count": 102,
   "metadata": {},
   "outputs": [
    {
     "data": {
      "text/plain": [
       "Index(['age', 'workclass', 'education_level', 'education-num',\n",
       "       'marital-status', 'occupation', 'relationship', 'race', 'sex',\n",
       "       'capital-gain', 'capital-loss', 'hours-per-week', 'native-country',\n",
       "       'income'],\n",
       "      dtype='object')"
      ]
     },
     "execution_count": 102,
     "metadata": {},
     "output_type": "execute_result"
    }
   ],
   "source": [
    "data.columns"
   ]
  },
  {
   "cell_type": "code",
   "execution_count": 120,
   "metadata": {},
   "outputs": [
    {
     "name": "stdout",
     "output_type": "stream",
     "text": [
      "103 total features after one-hot encoding\n"
     ]
    }
   ],
   "source": [
    "features_final = pd.get_dummies(features_log_minmax_transform) # one-hot encode w/ pandas.get_dummies() \n",
    "\n",
    "income = data.income.map({'<=50K': 0, '>50K': 1})  # encode income to 0 and 1\n",
    "\n",
    "encoded = list(features_final.columns)\n",
    "print(\"{} total features after one-hot encoding\".format(len(encoded)))"
   ]
  },
  {
   "cell_type": "markdown",
   "metadata": {},
   "source": [
    "### Shuffle and Split Data\n",
    "Now all _categorical variables_ have been converted into numerical features, and all numerical features have been normalized. As always, we will now split the data (both features and their labels) into training and test sets. 80% of the data will be used for training and 20% for testing.\n",
    "\n",
    "Run the code cell below to perform this split."
   ]
  },
  {
   "cell_type": "code",
   "execution_count": 104,
   "metadata": {},
   "outputs": [
    {
     "name": "stdout",
     "output_type": "stream",
     "text": [
      "Training set has 36177 samples.\n",
      "Testing set has 9045 samples.\n"
     ]
    }
   ],
   "source": [
    "from sklearn.cross_validation import train_test_split\n",
    "\n",
    "X_train, X_test, y_train, y_test = train_test_split(features_final,    # split 'features' and 'income' \n",
    "                                                    income, \n",
    "                                                    test_size = 0.2, \n",
    "                                                    random_state = 0)\n",
    "\n",
    "print(\"Training set has {} samples.\".format(X_train.shape[0]))\n",
    "print(\"Testing set has {} samples.\".format(X_test.shape[0]))"
   ]
  },
  {
   "cell_type": "code",
   "execution_count": 105,
   "metadata": {},
   "outputs": [
    {
     "data": {
      "text/plain": [
       "['age',\n",
       " 'education-num',\n",
       " 'capital-gain',\n",
       " 'capital-loss',\n",
       " 'hours-per-week',\n",
       " 'workclass_ Federal-gov',\n",
       " 'workclass_ Local-gov',\n",
       " 'workclass_ Private',\n",
       " 'workclass_ Self-emp-inc',\n",
       " 'workclass_ Self-emp-not-inc',\n",
       " 'workclass_ State-gov',\n",
       " 'workclass_ Without-pay',\n",
       " 'education_level_ 10th',\n",
       " 'education_level_ 11th',\n",
       " 'education_level_ 12th',\n",
       " 'education_level_ 1st-4th',\n",
       " 'education_level_ 5th-6th',\n",
       " 'education_level_ 7th-8th',\n",
       " 'education_level_ 9th',\n",
       " 'education_level_ Assoc-acdm',\n",
       " 'education_level_ Assoc-voc',\n",
       " 'education_level_ Bachelors',\n",
       " 'education_level_ Doctorate',\n",
       " 'education_level_ HS-grad',\n",
       " 'education_level_ Masters',\n",
       " 'education_level_ Preschool',\n",
       " 'education_level_ Prof-school',\n",
       " 'education_level_ Some-college',\n",
       " 'marital-status_ Divorced',\n",
       " 'marital-status_ Married-AF-spouse',\n",
       " 'marital-status_ Married-civ-spouse',\n",
       " 'marital-status_ Married-spouse-absent',\n",
       " 'marital-status_ Never-married',\n",
       " 'marital-status_ Separated',\n",
       " 'marital-status_ Widowed',\n",
       " 'occupation_ Adm-clerical',\n",
       " 'occupation_ Armed-Forces',\n",
       " 'occupation_ Craft-repair',\n",
       " 'occupation_ Exec-managerial',\n",
       " 'occupation_ Farming-fishing',\n",
       " 'occupation_ Handlers-cleaners',\n",
       " 'occupation_ Machine-op-inspct',\n",
       " 'occupation_ Other-service',\n",
       " 'occupation_ Priv-house-serv',\n",
       " 'occupation_ Prof-specialty',\n",
       " 'occupation_ Protective-serv',\n",
       " 'occupation_ Sales',\n",
       " 'occupation_ Tech-support',\n",
       " 'occupation_ Transport-moving',\n",
       " 'relationship_ Husband',\n",
       " 'relationship_ Not-in-family',\n",
       " 'relationship_ Other-relative',\n",
       " 'relationship_ Own-child',\n",
       " 'relationship_ Unmarried',\n",
       " 'relationship_ Wife',\n",
       " 'race_ Amer-Indian-Eskimo',\n",
       " 'race_ Asian-Pac-Islander',\n",
       " 'race_ Black',\n",
       " 'race_ Other',\n",
       " 'race_ White',\n",
       " 'sex_ Female',\n",
       " 'sex_ Male',\n",
       " 'native-country_ Cambodia',\n",
       " 'native-country_ Canada',\n",
       " 'native-country_ China',\n",
       " 'native-country_ Columbia',\n",
       " 'native-country_ Cuba',\n",
       " 'native-country_ Dominican-Republic',\n",
       " 'native-country_ Ecuador',\n",
       " 'native-country_ El-Salvador',\n",
       " 'native-country_ England',\n",
       " 'native-country_ France',\n",
       " 'native-country_ Germany',\n",
       " 'native-country_ Greece',\n",
       " 'native-country_ Guatemala',\n",
       " 'native-country_ Haiti',\n",
       " 'native-country_ Holand-Netherlands',\n",
       " 'native-country_ Honduras',\n",
       " 'native-country_ Hong',\n",
       " 'native-country_ Hungary',\n",
       " 'native-country_ India',\n",
       " 'native-country_ Iran',\n",
       " 'native-country_ Ireland',\n",
       " 'native-country_ Italy',\n",
       " 'native-country_ Jamaica',\n",
       " 'native-country_ Japan',\n",
       " 'native-country_ Laos',\n",
       " 'native-country_ Mexico',\n",
       " 'native-country_ Nicaragua',\n",
       " 'native-country_ Outlying-US(Guam-USVI-etc)',\n",
       " 'native-country_ Peru',\n",
       " 'native-country_ Philippines',\n",
       " 'native-country_ Poland',\n",
       " 'native-country_ Portugal',\n",
       " 'native-country_ Puerto-Rico',\n",
       " 'native-country_ Scotland',\n",
       " 'native-country_ South',\n",
       " 'native-country_ Taiwan',\n",
       " 'native-country_ Thailand',\n",
       " 'native-country_ Trinadad&Tobago',\n",
       " 'native-country_ United-States',\n",
       " 'native-country_ Vietnam',\n",
       " 'native-country_ Yugoslavia']"
      ]
     },
     "execution_count": 105,
     "metadata": {},
     "output_type": "execute_result"
    }
   ],
   "source": [
    "list(X_train)"
   ]
  },
  {
   "cell_type": "markdown",
   "metadata": {},
   "source": [
    "----\n",
    "## Evaluating Model Performance\n",
    "In this section, we will investigate four different algorithms, and determine which is best at modeling the data. Three of these algorithms will be supervised learners of your choice, and the fourth algorithm is known as a *naive predictor*."
   ]
  },
  {
   "cell_type": "markdown",
   "metadata": {},
   "source": [
    "### Metrics and the Naive Predictor\n",
    "*CharityML*, equipped with their research, knows individuals that make more than \\$50,000 are most likely to donate to their charity. Because of this, *CharityML* is particularly interested in predicting who makes more than \\$50,000 accurately. It would seem that using **accuracy** as a metric for evaluating a particular model's performace would be appropriate. Additionally, identifying someone that *does not* make more than \\$50,000 as someone who does would be detrimental to *CharityML*, since they are looking to find individuals willing to donate. \n",
    "\n",
    ">> Therefore, a model's ability to precisely predict those that make more than \\$50,000 is *more important* than the model's ability to **recall** those individuals. We can use **F-beta score** as a metric that considers both precision and recall:\n",
    "\n",
    "$$ F_{\\beta} = (1 + \\beta^2) \\cdot \\frac{precision \\cdot recall}{\\left( \\beta^2 \\cdot precision \\right) + recall} $$\n",
    "\n",
    "In particular, when $\\beta = 0.5$, more emphasis is placed on precision. This is called the **F$_{0.5}$ score** (or F-score for simplicity).\n",
    "\n",
    "Looking at the distribution of classes (those who make at most `$50,000`, and those who make more), it's clear most individuals do not make more than `$50,000`. This can greatly affect **accuracy**, since we could simply say *\"this person does not make more than `$50,000`\"* and generally be right, without ever looking at the data! Making such a statement would be called **naive**, since we have not considered any information to substantiate the claim. It is always important to consider the *naive prediction* for your data, to help establish a benchmark for whether a model is performing well. That been said, using that prediction would be pointless: If we predicted all people made less than `$50,000`, *CharityML* would identify no one as donors. \n",
    "\n",
    "\n",
    "#### Note: Recap of accuracy, precision, recall\n",
    "\n",
    "**Accuracy** measures how often the classifier makes the correct prediction. It’s the ratio of the number of correct predictions to the total number of predictions (the number of test data points).\n",
    "\n",
    "**Precision** tells us what proportion of messages we classified as spam, actually were spam.\n",
    "It is a ratio of true positives(words classified as spam, and which are actually spam) to all positives(all words classified as spam, irrespective of whether that was the correct classificatio), in other words it is the ratio of\n",
    "\n",
    "`[True Positives/(True Positives + False Positives)]`\n",
    "\n",
    "**Recall(sensitivity)** tells us what proportion of messages that actually were spam were classified by us as spam.\n",
    "It is a ratio of true positives(words classified as spam, and which are actually spam) to all the words that were actually spam, in other words it is the ratio of\n",
    "\n",
    "`[True Positives/(True Positives + False Negatives)]`\n",
    "\n",
    "For classification problems that are skewed in their classification distributions like in our case, for example if we had a 100 text messages and only 2 were spam and the rest 98 weren't, accuracy by itself is not a very good metric. We could classify 90 messages as not spam(including the 2 that were spam but we classify them as not spam, hence they would be false negatives) and 10 as spam(all 10 false positives) and still get a reasonably good accuracy score. For such cases, precision and recall come in very handy. These two metrics can be combined to get the F1 score, which is weighted average(harmonic mean) of the precision and recall scores. This score can range from 0 to 1, with 1 being the best possible F1 score(we take the harmonic mean as we are dealing with ratios)."
   ]
  },
  {
   "cell_type": "markdown",
   "metadata": {},
   "source": [
    "### Question 1 - Naive Predictor Performace\n",
    "1. If we chose a model that always predicted an individual made more than 50,000, what would that model's accuracy and F-score be on this dataset? \n",
    "\n",
    "**Note** the the purpose of generating a naive predictor is simply to show what a base model without any intelligence would look like. In the real world, ideally your base model would be either the results of a previous model or could be based on a research paper upon which you are looking to improve. When there is no benchmark model set, getting a result better than random choice is a place you could start from.\n",
    "\n",
    "**ANSWER:** \n",
    "    \n",
    "   If we chose a model that always predicted if a person made more than 50,000, then the Accuracy would not include the real True Negatives because we are classifying everything as persons who make more than 50k, so it would become the same as our Precision which would be True Positives/(True Positives + False Positives) and denominator is total number of results in total. Conversely, the Recall score (True Positives/(True Positives + False Negatives)) is affected as well since we have no False Negatives and results in 1. Lastly, the F score would results in a 1 because the F score is just 2 times the Precision times Recall divided by Precision plus Recall."
   ]
  },
  {
   "cell_type": "code",
   "execution_count": 106,
   "metadata": {},
   "outputs": [
    {
     "name": "stdout",
     "output_type": "stream",
     "text": [
      "Naive Predictor: [Accuracy score: 0.2489, F-score: 0.3320]\n"
     ]
    }
   ],
   "source": [
    "'''\n",
    "tp = np.sum(income)         # counting 1s --> naive case. \n",
    "fp = income.count() - TP    # specific to the naive case\n",
    "\n",
    "tn = 0 # no predicted negatives in the naive case\n",
    "fn = 0 # no predicted negatives in the naive case\n",
    "'''\n",
    "\n",
    "tp = np.sum(y_train==1)\n",
    "tn = 0\n",
    "\n",
    "fp = y_train.count() -tp\n",
    "fn = 0 \n",
    "\n",
    "accuracy =   (tp + tn)  / len(y_train)  \n",
    "recall =     tp / (tp + fn) \n",
    "precision =  tp / (tp + fp) \n",
    "\n",
    "beta = 0.5 \n",
    "fscore =  (1+beta) * (precision*recall) / ((beta*precision)+recall)\n",
    "\n",
    "print(\"Naive Predictor: [Accuracy score: {:.4f}, F-score: {:.4f}]\".format(accuracy, fscore))"
   ]
  },
  {
   "cell_type": "markdown",
   "metadata": {},
   "source": [
    "###  Supervised Learning Models\n",
    "**The following are some of the supervised learning models that are currently available in** [`scikit-learn`](http://scikit-learn.org/stable/supervised_learning.html) **that you may choose from:**\n",
    "- Gaussian Naive Bayes (GaussianNB)\n",
    "- Decision Trees\n",
    "- Ensemble Methods (Bagging, AdaBoost, Random Forest, Gradient Boosting)\n",
    "- K-Nearest Neighbors (KNeighbors)\n",
    "- Stochastic Gradient Descent Classifier (SGDC)\n",
    "- Support Vector Machines (SVM)\n",
    "- Logistic Regression"
   ]
  },
  {
   "cell_type": "markdown",
   "metadata": {},
   "source": [
    "### Question 2 - Model Application\n",
    "List three of the supervised learning models above that are appropriate for this problem that you will test on the census data. For each model chosen\n",
    "\n",
    "- Describe one real-world application in industry where the model can be applied. \n",
    "- What are the strengths of the model; when does it perform well?\n",
    "- What are the weaknesses of the model; when does it perform poorly?\n",
    "- What makes this model a good candidate for the problem, given what you know about the data?\n",
    "\n",
    "**ANSWER:**"
   ]
  },
  {
   "cell_type": "markdown",
   "metadata": {},
   "source": [
    ">> A machine learning algorithms most basic task is to apply some mathematical method to a set of data points in the form of regression, classification and or clustering and to start, thanks to this [outline](https://scikit-learn.org/stable/supervised_learning.html) we can see how each of these models all have the capability for regression and classification. Regression considers continuous and typically numerical data, and require “ground truth” data which we have in this case, but when looking at our outcome, I see regression is not the algorithm to go with, rather classification would be the better option because we are looking for a model to best classify two outcomes, users with either more than 50k or less than 50k which is very binary and perfect for classification. In fact, one type of logistic regression is called, “Binary Logistic Regression”. \n",
    "\n",
    "\n",
    "1. **Decisions Trees (DT):** can work as a regression or classification model. In both cases, you start with a root binary feature condition, and based on the answer on that condition, you “branch” out to either a left leaf or a right leaf, until you reach a final outcome. The leaves can be considered as labels and branches as features. When using a DT as a classification model the prediction will be discrete, whereas, in a regression model, the prediction could be continuous or a real number[4]. \n",
    "\n",
    "    - Real world applications of a DT model would be any type of recommendation system. \n",
    "    - The strengths of a DT model are that of cases in which the data is smaller with fewer features and non-linear. DTs are used in non-linear decision making, very easy to implement and to understand in handling both categorical and numerical data[6].\n",
    "    - The weaknesses of a DT model come to play when you’re working with a large dataset like ours with over 103 features. DT’s are commonly overfitting because of the branch like nature that continues to split on each feature condition until a conclusion is made. You could specify depth and layers before building the model as a precaution. \n",
    "    - Given we have been tasked to construct a model that accurately predicts whether a person makes more than `50k` which is already a discrete feature in our dataset, using a classification DT may be a potential learner as DTs can work with classification based modeling. To begin with a classification algorithm for this case, we would “calculate potential vertical or horizontal splits for each column where we first calculate the entropy of each of the labels/ leaves, then, calculate the information gain and pick the largest one” [8]. The only problem might be in the complexity of considering over 103 encoded features. \n",
    "\n",
    "\n",
    "2. **Logistic Regression (LR):** algorithm is used mostly for predicting a categorical feature with ONLY two possible outcomes. Predictions can be mapped to 0 or 1 and can be “regularized”. \n",
    "    - Real world use cases for the LR algorithm are vast, in that it's one of the most commonly used ML algorithms because of it's simpleness, and can even be used as a baseline in determining the performance of other more complex algorithms.[3]\n",
    "    - Strengths of LRs are probabilistic and regularization can be used to avoid overfitting. LRs can also be integrated with “stochastic gradient descent”[2]    \n",
    "    - Weaknesses of LRs “can underperform with multi or non-linear decision boundaries, and can not be flexible to capture complex relationships”[2]. Decision boundaries can be tuned to a threshold to help fit the data.\n",
    "    - Given our dataset, this model is a good candidate because we have many features to consider and can use as a binary indicator for the model to train on.\n",
    "\n",
    "\n",
    "3. **Ensemble Methods (EM)** are used when we are combining weak learners to create a strong learner.  The two factors we look at with ensemble methods are bias and variance.  A high bias generally means the line doesn’t fit well to the data as in for example, linear regression but, this also means it has a low variance. A high variance means the model memorizes in a way all the data points in the dataset as in how a decision tree would branch out given the result of each feature condition. This also means a decision tree has a low bias. In conclusion, the result is an ensemble method that aims to minimize bias and variance which we can do by using a random forest algorithm [7]. Ensemble methods like a Random Forest (FR) or Gradient Boosting Trees (GBM) use aspects of DTs. Ensemble methods can be competitively intense, and add to memory constraints. However, assist with this bias/variance trade off which allow for further tuning and testing. Boosting helps to reduce bias, so this would be used if our model has a high bias, but we have to ensure our data is not noisy in order for boosting to work well. While Bagging, or Bootstrap Aggregating, tends to reduce variance so this is useful if we are experiencing a high variance outcome.\n",
    "\n",
    "    - Real world applications from what I’m reading, it’s typical to have RFs and GBMs used together but, GBMs are used for anomaly detection (credit card fraud, DNA sequences). Real world RF applications are anything related to “multi-class object detection in computer vision or bioinformatics”[1] of which requires ability to handle large amounts of data, \n",
    "    - Strengths of RFs are the “randomness” and makes it less likely to overfit. RFs are easier to tune than GBMs with only two parameters # of trees, and # of nodes. Strengths of GBM is that \"it builds a tree at a time in that each new tree corrects errors made by previous tree\"[1] \n",
    "    - Weaknesses of GBMs are tendency to overfit if data is noisy and harder to tune parameters than RFs. Weaknesses of RFs tend to be lots of trees can make the algorithm slow and RFs bias for attributes with more levels.[1]\n",
    "    - Given our dataset, random forest would work great in that we have so many features to consider getting a random sampling using bootstrapping and targeting only a subset of these features at a time.\n",
    "    \n",
    "    \n",
    "    \n",
    "4. **Stochastic Gradient Descent Classifier (SGD):** works well with linear classifiers\n",
    "    - Real world use cases for SGD are related to text classification and NLP.\n",
    "    - Strengths of SGD are rather instead of a normal gradient descent where the algorithm is computing a prediction for every single data point in the data set with the SGD, the algorithm is computing the gradient and updates a weight matrix on batches of data instead.\n",
    "    - Weaknesses of the SGD is that it might produce more “noise”[9] and requires hyperparameters as a regularization, and is sensitive to feature scaling[9]. \n",
    "    - Given our use SGDs may not be as resourceful.\n",
    "\n",
    "\n",
    "5. **SVM**: can be used for classification or regression problems as SVR or SVC by finding the best decision boundary to separate the data, and to “find the smallest distance between the data points and the decision boundary to be as large as possible” utilizing “margins” \n",
    "   - Real world applications include face detection, image classification, and other computer vision applications. \n",
    "   - Strengths are SVMs can model non-linear decision boundaries and the \"kernels\"[10] allow for customization and don’t always “over-fit” given their dimensional space.\n",
    "    - Weaknesses are that SVMs take up a lot of memory, and typically don’t work well with larger datasets. RFs can be an alternative. \n",
    "    - Given our large dataset, we will pass on this model.\n",
    "\n",
    "**CITATIONS:**\n",
    "1. A. Ravanshad, Medium, 'Gradient Boosting vs Random Forest', April 27, 2018, Reference: https://medium.com/@aravanshad/gradient-boosting-versus-random-forest-cfa3fa8f0d80\n",
    "2. Elite Data Science, “Modern Machine Learning Algorithms: Strengths and Weaknesses”, Reference: https://elitedatascience.com/machine-learning-algorithms\n",
    "3. N.S. Chauhan, \"Real World Implementation of Logistic Regression\", March 11, 2019, Reference: https://towardsdatascience.com/real-world-implementation-of-logistic-regression-5136cefb8125\n",
    "4. Wikipedia, Reference: https://en.wikipedia.org/wiki/Decision_tree_learning\n",
    "6. Hackerearth.com, “Decision Tree”, Reference: https://www.hackerearth.com/practice/machine-learning/machine-learning-algorithms/ml-decision-tree/tutorial/ \n",
    "7. Udacity, Maching Learning with Tensorflow Nanodegree, “Ensembles”, Reference: Lesson 7, Video 2\n",
    "8. Udacity, Maching Learning with Tensorflow Nanodegree, “Maximizing Information Gain”, Reference: Lesson 4, Video 15 \n",
    "9. A. Rosebrock, PyImageSearch, “Stochastic Gradient Descent (SGD) with Python”, October 17, 2016, Reference: https://www.pyimagesearch.com/2016/10/17/stochastic-gradient-descent-sgd-with-python/  \n",
    "10. Z. Zhang, Towards Data Science, “Support Vector Machine Explained”, July 30, 2019, References: https://towardsdatascience.com/support-vector-machine-explained-8bfef2f17e71"
   ]
  },
  {
   "cell_type": "markdown",
   "metadata": {},
   "source": [
    "### Implementation - Creating a Training and Predicting Pipeline\n",
    "To properly evaluate the performance of each model you've chosen, it's important that you create a training and predicting pipeline that allows you to quickly and effectively train models using various sizes of training data and perform predictions on the testing data. Your implementation here will be used in the following section.\n",
    "In the code block below, you will need to implement the following:\n",
    " - Import `fbeta_score` and `accuracy_score` from [`sklearn.metrics`](http://scikit-learn.org/stable/modules/classes.html#sklearn-metrics-metrics).\n",
    " - Fit the learner to the sampled training data and record the training time.\n",
    " - Perform predictions on the test data `X_test`, and also on the first 300 training points `X_train[:300]`.\n",
    "   - Record the total prediction time.\n",
    " - Calculate the accuracy score for both the training subset and testing set.\n",
    " - Calculate the F-score for both the training subset and testing set.\n",
    "   - Make sure that you set the `beta` parameter!"
   ]
  },
  {
   "cell_type": "code",
   "execution_count": 107,
   "metadata": {},
   "outputs": [],
   "source": [
    "from sklearn.metrics import accuracy_score, fbeta_score, f1_score\n",
    "\n",
    "def train_predict(learner, sample_size, X_train, y_train, X_test, y_test): \n",
    "    '''\n",
    "    inputs:\n",
    "       - learner: the learning algorithm to be trained and predicted on\n",
    "       - sample_size: the size of samples (number) to be drawn from training set\n",
    "       - X_train: features training set\n",
    "       - y_train: income training set\n",
    "       - X_test: features testing set\n",
    "       - y_test: income testing set\n",
    "    '''\n",
    "    results = {}\n",
    "    \n",
    "    # TODO: Fit the learner using slicing 'sample_size' -> .fit(training_features[:], training_labels[:])\n",
    "    start = time() \n",
    "    learner =learner.fit(X_train[:sample_size], y_train[:sample_size])\n",
    "    end = time() \n",
    "    \n",
    "    results['train_time'] = start + end\n",
    "        \n",
    "    # get the predictions on the test set(X_test), \n",
    "    # then get predictions on the first 300 training samples(X_train) using .predict()\n",
    "    \n",
    "    start = time() \n",
    "    predictions_test = learner.predict(X_test)\n",
    "    predictions_train = learner.predict(X_train[:300])\n",
    "    end = time() \n",
    "    \n",
    "    # TODO: Calculate the total prediction time\n",
    "    results['pred_time'] = start + end\n",
    "            \n",
    "    # TODO: Compute accuracy on the first 300 training samples which is y_train[:300]\n",
    "    results['acc_train'] = accuracy_score(y_train[:300], predictions_train[:300])\n",
    "        \n",
    "    # TODO: Compute accuracy on test set using accuracy_score()\n",
    "    results['acc_test'] = accuracy_score(y_test, predictions_test)\n",
    "    \n",
    "    # TODO: Compute F-score on the the first 300 training samples using fbeta_score()\n",
    "    results['f_train'] = fbeta_score(y_train[:300], predictions_train[:300], beta=0.5)\n",
    "        \n",
    "    # TODO: Compute F-score on the test set which is y_test\n",
    "    results['f_test'] = f1_score(predictions_test, y_test) \n",
    "    \n",
    "    print(\"{} trained on {} samples.\".format(learner.__class__.__name__, sample_size)) \n",
    "    return results"
   ]
  },
  {
   "cell_type": "markdown",
   "metadata": {},
   "source": [
    "### Implementation: Initial Model Evaluation\n",
    "In the code cell, you will need to implement the following:\n",
    "- Import the three supervised learning models you've discussed in the previous section.\n",
    "- Initialize the three models and store them in `'clf_A'`, `'clf_B'`, and `'clf_C'`.\n",
    "  - Use a `'random_state'` for each model you use, if provided.\n",
    "  - **Note:** Use the default settings for each model — you will tune one specific model in a later section.\n",
    "- Calculate the number of records equal to 1%, 10%, and 100% of the training data.\n",
    "  - Store those values in `'samples_1'`, `'samples_10'`, and `'samples_100'` respectively.\n",
    "\n",
    "**Note:** Depending on which algorithms you chose, the following implementation may take some time to run!"
   ]
  },
  {
   "cell_type": "code",
   "execution_count": 108,
   "metadata": {},
   "outputs": [
    {
     "name": "stdout",
     "output_type": "stream",
     "text": [
      "DecisionTreeClassifier trained on 361 samples.\n",
      "DecisionTreeClassifier trained on 3617 samples.\n",
      "DecisionTreeClassifier trained on 36177 samples.\n",
      "RandomForestClassifier trained on 361 samples.\n",
      "RandomForestClassifier trained on 3617 samples.\n",
      "RandomForestClassifier trained on 36177 samples.\n",
      "LogisticRegression trained on 361 samples.\n",
      "LogisticRegression trained on 3617 samples.\n",
      "LogisticRegression trained on 36177 samples.\n"
     ]
    },
    {
     "data": {
      "image/png": "[encoded data removed]",
      "text/plain": [
       "<matplotlib.figure.Figure at 0x7efea86fd9e8>"
      ]
     },
     "metadata": {
      "needs_background": "light"
     },
     "output_type": "display_data"
    }
   ],
   "source": [
    "# import the 3 supervised learning models from sklearn DTs, EMs, and LR\n",
    "from sklearn.linear_model import LogisticRegression\n",
    "from sklearn.ensemble import BaggingClassifier, RandomForestClassifier, AdaBoostClassifier \n",
    "from sklearn.tree import DecisionTreeClassifier\n",
    "\n",
    "clf_A = DecisionTreeClassifier(random_state=42)\n",
    "clf_B = RandomForestClassifier(random_state=42) # AdaBoostClassifier(base_estimator = DecisionTreeClassifier(max_depth=2), n_estimators = 4) \n",
    "clf_C = LogisticRegression(random_state=42)\n",
    "\n",
    "# calculate the number of samples for 1%, 10%, and 100% of the training data\n",
    "# 1. reference: https://stackoverflow.com/questions/43777243/how-to-split-a-dataframe-in-pandas-in-predefined-percentages\n",
    "# example: a, b, c = np.split(df, [int(.2*len(df)), int(.5*len(df))])\n",
    "\n",
    "samples_100 = int(len(y_train)) \n",
    "samples_10 = int(.10 * len(y_train))  # [1]\n",
    "samples_1 = int(.01 * len(y_train))   # [1]\n",
    "\n",
    "results = {}\n",
    "for clf in [clf_A, clf_B, clf_C]:\n",
    "    clf_name = clf.__class__.__name__\n",
    "    results[clf_name] = {}\n",
    "    for i, samples in enumerate([samples_1, samples_10, samples_100]):\n",
    "        results[clf_name][i] = \\\n",
    "        train_predict(clf, samples, X_train, y_train, X_test, y_test)\n",
    "\n",
    "# Run metrics visualization for the three supervised learning models chosen\n",
    "vs.evaluate(results, accuracy, fscore)"
   ]
  },
  {
   "cell_type": "code",
   "execution_count": 121,
   "metadata": {},
   "outputs": [
    {
     "data": {
      "text/plain": [
       "{0: {'train_time': 3167246222.3790693,\n",
       "  'pred_time': 3167246222.412548,\n",
       "  'acc_train': 0.97999999999999998,\n",
       "  'acc_test': 0.80829187396351576,\n",
       "  'f_train': 0.98214285714285721,\n",
       "  'f_test': 0.56519558676028081},\n",
       " 1: {'train_time': 3167246222.493965,\n",
       "  'pred_time': 3167246222.5723934,\n",
       "  'acc_train': 0.99333333333333329,\n",
       "  'acc_test': 0.83360972913211717,\n",
       "  'f_train': 0.99431818181818166,\n",
       "  'f_test': 0.62309040821437511},\n",
       " 2: {'train_time': 3167246223.352855,\n",
       "  'pred_time': 3167246224.1376534,\n",
       "  'acc_train': 0.97333333333333338,\n",
       "  'acc_test': 0.84311774461028188,\n",
       "  'f_train': 0.96726190476190466,\n",
       "  'f_test': 0.65666586015001216}}"
      ]
     },
     "execution_count": 121,
     "metadata": {},
     "output_type": "execute_result"
    }
   ],
   "source": [
    "results['RandomForestClassifier'] # sample our results dict"
   ]
  },
  {
   "cell_type": "code",
   "execution_count": 122,
   "metadata": {},
   "outputs": [
    {
     "data": {
      "text/html": [
       "<style  type=\"text/css\" >\n",
       "    #T_91323f16_60cc_11ea_91ac_0242ac120002row0_col0 {\n",
       "            background-color:  #ffff96;\n",
       "        }    #T_91323f16_60cc_11ea_91ac_0242ac120002row0_col1 {\n",
       "            background-color:  #ffff9d;\n",
       "        }    #T_91323f16_60cc_11ea_91ac_0242ac120002row0_col2 {\n",
       "            background-color:  #ffff1e;\n",
       "        }    #T_91323f16_60cc_11ea_91ac_0242ac120002row0_col3 {\n",
       "            background-color:  #ffff5b;\n",
       "        }    #T_91323f16_60cc_11ea_91ac_0242ac120002row0_col4 {\n",
       "            background-color:  #ffff0e;\n",
       "        }    #T_91323f16_60cc_11ea_91ac_0242ac120002row0_col5 {\n",
       "            background-color:  #ffffa3;\n",
       "        }    #T_91323f16_60cc_11ea_91ac_0242ac120002row0_col6 {\n",
       "            background-color:  #ffffde;\n",
       "        }    #T_91323f16_60cc_11ea_91ac_0242ac120002row1_col0 {\n",
       "            background-color:  #ffff8e;\n",
       "        }    #T_91323f16_60cc_11ea_91ac_0242ac120002row1_col1 {\n",
       "            background-color:  #ffff93;\n",
       "        }    #T_91323f16_60cc_11ea_91ac_0242ac120002row1_col2 {\n",
       "            background-color:  #ffff0a;\n",
       "        }    #T_91323f16_60cc_11ea_91ac_0242ac120002row1_col3 {\n",
       "            background-color:  #ffff18;\n",
       "        }    #T_91323f16_60cc_11ea_91ac_0242ac120002row1_col4 {\n",
       "            background-color:  #ffff04;\n",
       "        }    #T_91323f16_60cc_11ea_91ac_0242ac120002row1_col5 {\n",
       "            background-color:  #ffff3b;\n",
       "        }    #T_91323f16_60cc_11ea_91ac_0242ac120002row1_col6 {\n",
       "            background-color:  #ffffd1;\n",
       "        }    #T_91323f16_60cc_11ea_91ac_0242ac120002row2_col0 {\n",
       "            background-color:  #ffff56;\n",
       "        }    #T_91323f16_60cc_11ea_91ac_0242ac120002row2_col1 {\n",
       "            background-color:  #ffff35;\n",
       "        }    #T_91323f16_60cc_11ea_91ac_0242ac120002row2_col2 {\n",
       "            background-color:  #ffff28;\n",
       "        }    #T_91323f16_60cc_11ea_91ac_0242ac120002row2_col3 {\n",
       "            background-color:  #ffff00;\n",
       "        }    #T_91323f16_60cc_11ea_91ac_0242ac120002row2_col4 {\n",
       "            background-color:  #ffff18;\n",
       "        }    #T_91323f16_60cc_11ea_91ac_0242ac120002row2_col5 {\n",
       "            background-color:  #ffff00;\n",
       "        }    #T_91323f16_60cc_11ea_91ac_0242ac120002row2_col6 {\n",
       "            background-color:  #ffff00;\n",
       "        }    #T_91323f16_60cc_11ea_91ac_0242ac120002row3_col0 {\n",
       "            background-color:  #ffffe5;\n",
       "        }    #T_91323f16_60cc_11ea_91ac_0242ac120002row3_col1 {\n",
       "            background-color:  #ffffe5;\n",
       "        }    #T_91323f16_60cc_11ea_91ac_0242ac120002row3_col2 {\n",
       "            background-color:  #ffff00;\n",
       "        }    #T_91323f16_60cc_11ea_91ac_0242ac120002row3_col3 {\n",
       "            background-color:  #ffffe5;\n",
       "        }    #T_91323f16_60cc_11ea_91ac_0242ac120002row3_col4 {\n",
       "            background-color:  #ffff00;\n",
       "        }    #T_91323f16_60cc_11ea_91ac_0242ac120002row3_col5 {\n",
       "            background-color:  #ffffe5;\n",
       "        }    #T_91323f16_60cc_11ea_91ac_0242ac120002row3_col6 {\n",
       "            background-color:  #ffffe5;\n",
       "        }    #T_91323f16_60cc_11ea_91ac_0242ac120002row4_col0 {\n",
       "            background-color:  #ffffe2;\n",
       "        }    #T_91323f16_60cc_11ea_91ac_0242ac120002row4_col1 {\n",
       "            background-color:  #ffffe1;\n",
       "        }    #T_91323f16_60cc_11ea_91ac_0242ac120002row4_col2 {\n",
       "            background-color:  #ffff05;\n",
       "        }    #T_91323f16_60cc_11ea_91ac_0242ac120002row4_col3 {\n",
       "            background-color:  #ffff69;\n",
       "        }    #T_91323f16_60cc_11ea_91ac_0242ac120002row4_col4 {\n",
       "            background-color:  #ffff02;\n",
       "        }    #T_91323f16_60cc_11ea_91ac_0242ac120002row4_col5 {\n",
       "            background-color:  #ffff5d;\n",
       "        }    #T_91323f16_60cc_11ea_91ac_0242ac120002row4_col6 {\n",
       "            background-color:  #ffffdc;\n",
       "        }    #T_91323f16_60cc_11ea_91ac_0242ac120002row5_col0 {\n",
       "            background-color:  #ffffbb;\n",
       "        }    #T_91323f16_60cc_11ea_91ac_0242ac120002row5_col1 {\n",
       "            background-color:  #ffffa0;\n",
       "        }    #T_91323f16_60cc_11ea_91ac_0242ac120002row5_col2 {\n",
       "            background-color:  #ffff2d;\n",
       "        }    #T_91323f16_60cc_11ea_91ac_0242ac120002row5_col3 {\n",
       "            background-color:  #ffff3f;\n",
       "        }    #T_91323f16_60cc_11ea_91ac_0242ac120002row5_col4 {\n",
       "            background-color:  #ffff1b;\n",
       "        }    #T_91323f16_60cc_11ea_91ac_0242ac120002row5_col5 {\n",
       "            background-color:  #ffff39;\n",
       "        }    #T_91323f16_60cc_11ea_91ac_0242ac120002row5_col6 {\n",
       "            background-color:  #ffff4a;\n",
       "        }    #T_91323f16_60cc_11ea_91ac_0242ac120002row6_col0 {\n",
       "            background-color:  #ffff1f;\n",
       "        }    #T_91323f16_60cc_11ea_91ac_0242ac120002row6_col1 {\n",
       "            background-color:  #ffff31;\n",
       "        }    #T_91323f16_60cc_11ea_91ac_0242ac120002row6_col2 {\n",
       "            background-color:  #ffffd2;\n",
       "        }    #T_91323f16_60cc_11ea_91ac_0242ac120002row6_col3 {\n",
       "            background-color:  #ffff40;\n",
       "        }    #T_91323f16_60cc_11ea_91ac_0242ac120002row6_col4 {\n",
       "            background-color:  #ffffc7;\n",
       "        }    #T_91323f16_60cc_11ea_91ac_0242ac120002row6_col5 {\n",
       "            background-color:  #ffff8d;\n",
       "        }    #T_91323f16_60cc_11ea_91ac_0242ac120002row6_col6 {\n",
       "            background-color:  #ffffe5;\n",
       "        }    #T_91323f16_60cc_11ea_91ac_0242ac120002row7_col0 {\n",
       "            background-color:  #ffff1b;\n",
       "        }    #T_91323f16_60cc_11ea_91ac_0242ac120002row7_col1 {\n",
       "            background-color:  #ffff2d;\n",
       "        }    #T_91323f16_60cc_11ea_91ac_0242ac120002row7_col2 {\n",
       "            background-color:  #ffffe5;\n",
       "        }    #T_91323f16_60cc_11ea_91ac_0242ac120002row7_col3 {\n",
       "            background-color:  #ffff0c;\n",
       "        }    #T_91323f16_60cc_11ea_91ac_0242ac120002row7_col4 {\n",
       "            background-color:  #ffffe3;\n",
       "        }    #T_91323f16_60cc_11ea_91ac_0242ac120002row7_col5 {\n",
       "            background-color:  #ffff2d;\n",
       "        }    #T_91323f16_60cc_11ea_91ac_0242ac120002row7_col6 {\n",
       "            background-color:  #ffffde;\n",
       "        }    #T_91323f16_60cc_11ea_91ac_0242ac120002row8_col0 {\n",
       "            background-color:  #ffff00;\n",
       "        }    #T_91323f16_60cc_11ea_91ac_0242ac120002row8_col1 {\n",
       "            background-color:  #ffff00;\n",
       "        }    #T_91323f16_60cc_11ea_91ac_0242ac120002row8_col2 {\n",
       "            background-color:  #ffffe5;\n",
       "        }    #T_91323f16_60cc_11ea_91ac_0242ac120002row8_col3 {\n",
       "            background-color:  #ffff03;\n",
       "        }    #T_91323f16_60cc_11ea_91ac_0242ac120002row8_col4 {\n",
       "            background-color:  #ffffe5;\n",
       "        }    #T_91323f16_60cc_11ea_91ac_0242ac120002row8_col5 {\n",
       "            background-color:  #ffff0f;\n",
       "        }    #T_91323f16_60cc_11ea_91ac_0242ac120002row8_col6 {\n",
       "            background-color:  #ffff79;\n",
       "        }</style>  \n",
       "<table id=\"T_91323f16_60cc_11ea_91ac_0242ac120002\" > \n",
       "<thead>    <tr> \n",
       "        <th class=\"blank\" ></th> \n",
       "        <th class=\"blank level0\" ></th> \n",
       "        <th class=\"col_heading level0 col0\" >train_time</th> \n",
       "        <th class=\"col_heading level0 col1\" >pred_time</th> \n",
       "        <th class=\"col_heading level0 col2\" >acc_train</th> \n",
       "        <th class=\"col_heading level0 col3\" >acc_test</th> \n",
       "        <th class=\"col_heading level0 col4\" >f_train</th> \n",
       "        <th class=\"col_heading level0 col5\" >f_test</th> \n",
       "        <th class=\"col_heading level0 col6\" >time_diff</th> \n",
       "    </tr>    <tr> \n",
       "        <th class=\"index_name level0\" >model</th> \n",
       "        <th class=\"index_name level1\" >% of data</th> \n",
       "        <th class=\"blank\" ></th> \n",
       "        <th class=\"blank\" ></th> \n",
       "        <th class=\"blank\" ></th> \n",
       "        <th class=\"blank\" ></th> \n",
       "        <th class=\"blank\" ></th> \n",
       "        <th class=\"blank\" ></th> \n",
       "        <th class=\"blank\" ></th> \n",
       "    </tr></thead> \n",
       "<tbody>    <tr> \n",
       "        <th id=\"T_91323f16_60cc_11ea_91ac_0242ac120002level0_row0\" class=\"row_heading level0 row0\" rowspan=3>random forest</th> \n",
       "        <th id=\"T_91323f16_60cc_11ea_91ac_0242ac120002level1_row0\" class=\"row_heading level1 row0\" >1%</th> \n",
       "        <td id=\"T_91323f16_60cc_11ea_91ac_0242ac120002row0_col0\" class=\"data row0 col0\" >3.16725e+09</td> \n",
       "        <td id=\"T_91323f16_60cc_11ea_91ac_0242ac120002row0_col1\" class=\"data row0 col1\" >3.16725e+09</td> \n",
       "        <td id=\"T_91323f16_60cc_11ea_91ac_0242ac120002row0_col2\" class=\"data row0 col2\" >0.98</td> \n",
       "        <td id=\"T_91323f16_60cc_11ea_91ac_0242ac120002row0_col3\" class=\"data row0 col3\" >0.808292</td> \n",
       "        <td id=\"T_91323f16_60cc_11ea_91ac_0242ac120002row0_col4\" class=\"data row0 col4\" >0.982143</td> \n",
       "        <td id=\"T_91323f16_60cc_11ea_91ac_0242ac120002row0_col5\" class=\"data row0 col5\" >0.565196</td> \n",
       "        <td id=\"T_91323f16_60cc_11ea_91ac_0242ac120002row0_col6\" class=\"data row0 col6\" >0.0334787</td> \n",
       "    </tr>    <tr> \n",
       "        <th id=\"T_91323f16_60cc_11ea_91ac_0242ac120002level1_row1\" class=\"row_heading level1 row1\" >10%</th> \n",
       "        <td id=\"T_91323f16_60cc_11ea_91ac_0242ac120002row1_col0\" class=\"data row1 col0\" >3.16725e+09</td> \n",
       "        <td id=\"T_91323f16_60cc_11ea_91ac_0242ac120002row1_col1\" class=\"data row1 col1\" >3.16725e+09</td> \n",
       "        <td id=\"T_91323f16_60cc_11ea_91ac_0242ac120002row1_col2\" class=\"data row1 col2\" >0.993333</td> \n",
       "        <td id=\"T_91323f16_60cc_11ea_91ac_0242ac120002row1_col3\" class=\"data row1 col3\" >0.83361</td> \n",
       "        <td id=\"T_91323f16_60cc_11ea_91ac_0242ac120002row1_col4\" class=\"data row1 col4\" >0.994318</td> \n",
       "        <td id=\"T_91323f16_60cc_11ea_91ac_0242ac120002row1_col5\" class=\"data row1 col5\" >0.62309</td> \n",
       "        <td id=\"T_91323f16_60cc_11ea_91ac_0242ac120002row1_col6\" class=\"data row1 col6\" >0.0784283</td> \n",
       "    </tr>    <tr> \n",
       "        <th id=\"T_91323f16_60cc_11ea_91ac_0242ac120002level1_row2\" class=\"row_heading level1 row2\" >100%</th> \n",
       "        <td id=\"T_91323f16_60cc_11ea_91ac_0242ac120002row2_col0\" class=\"data row2 col0\" >3.16725e+09</td> \n",
       "        <td id=\"T_91323f16_60cc_11ea_91ac_0242ac120002row2_col1\" class=\"data row2 col1\" >3.16725e+09</td> \n",
       "        <td id=\"T_91323f16_60cc_11ea_91ac_0242ac120002row2_col2\" class=\"data row2 col2\" >0.973333</td> \n",
       "        <td id=\"T_91323f16_60cc_11ea_91ac_0242ac120002row2_col3\" class=\"data row2 col3\" >0.843118</td> \n",
       "        <td id=\"T_91323f16_60cc_11ea_91ac_0242ac120002row2_col4\" class=\"data row2 col4\" >0.967262</td> \n",
       "        <td id=\"T_91323f16_60cc_11ea_91ac_0242ac120002row2_col5\" class=\"data row2 col5\" >0.656666</td> \n",
       "        <td id=\"T_91323f16_60cc_11ea_91ac_0242ac120002row2_col6\" class=\"data row2 col6\" >0.784798</td> \n",
       "    </tr>    <tr> \n",
       "        <th id=\"T_91323f16_60cc_11ea_91ac_0242ac120002level0_row3\" class=\"row_heading level0 row3\" rowspan=3>decision tree</th> \n",
       "        <th id=\"T_91323f16_60cc_11ea_91ac_0242ac120002level1_row3\" class=\"row_heading level1 row3\" >1%</th> \n",
       "        <td id=\"T_91323f16_60cc_11ea_91ac_0242ac120002row3_col0\" class=\"data row3 col0\" >3.16725e+09</td> \n",
       "        <td id=\"T_91323f16_60cc_11ea_91ac_0242ac120002row3_col1\" class=\"data row3 col1\" >3.16725e+09</td> \n",
       "        <td id=\"T_91323f16_60cc_11ea_91ac_0242ac120002row3_col2\" class=\"data row3 col2\" >1</td> \n",
       "        <td id=\"T_91323f16_60cc_11ea_91ac_0242ac120002row3_col3\" class=\"data row3 col3\" >0.755224</td> \n",
       "        <td id=\"T_91323f16_60cc_11ea_91ac_0242ac120002row3_col4\" class=\"data row3 col4\" >1</td> \n",
       "        <td id=\"T_91323f16_60cc_11ea_91ac_0242ac120002row3_col5\" class=\"data row3 col5\" >0.527529</td> \n",
       "        <td id=\"T_91323f16_60cc_11ea_91ac_0242ac120002row3_col6\" class=\"data row3 col6\" >0.00989389</td> \n",
       "    </tr>    <tr> \n",
       "        <th id=\"T_91323f16_60cc_11ea_91ac_0242ac120002level1_row4\" class=\"row_heading level1 row4\" >10%</th> \n",
       "        <td id=\"T_91323f16_60cc_11ea_91ac_0242ac120002row4_col0\" class=\"data row4 col0\" >3.16725e+09</td> \n",
       "        <td id=\"T_91323f16_60cc_11ea_91ac_0242ac120002row4_col1\" class=\"data row4 col1\" >3.16725e+09</td> \n",
       "        <td id=\"T_91323f16_60cc_11ea_91ac_0242ac120002row4_col2\" class=\"data row4 col2\" >0.996667</td> \n",
       "        <td id=\"T_91323f16_60cc_11ea_91ac_0242ac120002row4_col3\" class=\"data row4 col3\" >0.802764</td> \n",
       "        <td id=\"T_91323f16_60cc_11ea_91ac_0242ac120002row4_col4\" class=\"data row4 col4\" >0.997191</td> \n",
       "        <td id=\"T_91323f16_60cc_11ea_91ac_0242ac120002row4_col5\" class=\"data row4 col5\" >0.604259</td> \n",
       "        <td id=\"T_91323f16_60cc_11ea_91ac_0242ac120002row4_col6\" class=\"data row4 col6\" >0.0377774</td> \n",
       "    </tr>    <tr> \n",
       "        <th id=\"T_91323f16_60cc_11ea_91ac_0242ac120002level1_row5\" class=\"row_heading level1 row5\" >100%</th> \n",
       "        <td id=\"T_91323f16_60cc_11ea_91ac_0242ac120002row5_col0\" class=\"data row5 col0\" >3.16725e+09</td> \n",
       "        <td id=\"T_91323f16_60cc_11ea_91ac_0242ac120002row5_col1\" class=\"data row5 col1\" >3.16725e+09</td> \n",
       "        <td id=\"T_91323f16_60cc_11ea_91ac_0242ac120002row5_col2\" class=\"data row5 col2\" >0.97</td> \n",
       "        <td id=\"T_91323f16_60cc_11ea_91ac_0242ac120002row5_col3\" class=\"data row5 col3\" >0.818905</td> \n",
       "        <td id=\"T_91323f16_60cc_11ea_91ac_0242ac120002row5_col4\" class=\"data row5 col4\" >0.963855</td> \n",
       "        <td id=\"T_91323f16_60cc_11ea_91ac_0242ac120002row5_col5\" class=\"data row5 col5\" >0.624484</td> \n",
       "        <td id=\"T_91323f16_60cc_11ea_91ac_0242ac120002row5_col6\" class=\"data row5 col6\" >0.533983</td> \n",
       "    </tr>    <tr> \n",
       "        <th id=\"T_91323f16_60cc_11ea_91ac_0242ac120002level0_row6\" class=\"row_heading level0 row6\" rowspan=3>logistic regression</th> \n",
       "        <th id=\"T_91323f16_60cc_11ea_91ac_0242ac120002level1_row6\" class=\"row_heading level1 row6\" >1%</th> \n",
       "        <td id=\"T_91323f16_60cc_11ea_91ac_0242ac120002row6_col0\" class=\"data row6 col0\" >3.16725e+09</td> \n",
       "        <td id=\"T_91323f16_60cc_11ea_91ac_0242ac120002row6_col1\" class=\"data row6 col1\" >3.16725e+09</td> \n",
       "        <td id=\"T_91323f16_60cc_11ea_91ac_0242ac120002row6_col2\" class=\"data row6 col2\" >0.86</td> \n",
       "        <td id=\"T_91323f16_60cc_11ea_91ac_0242ac120002row6_col3\" class=\"data row6 col3\" >0.818684</td> \n",
       "        <td id=\"T_91323f16_60cc_11ea_91ac_0242ac120002row6_col4\" class=\"data row6 col4\" >0.738636</td> \n",
       "        <td id=\"T_91323f16_60cc_11ea_91ac_0242ac120002row6_col5\" class=\"data row6 col5\" >0.57732</td> \n",
       "        <td id=\"T_91323f16_60cc_11ea_91ac_0242ac120002row6_col6\" class=\"data row6 col6\" >0.00655031</td> \n",
       "    </tr>    <tr> \n",
       "        <th id=\"T_91323f16_60cc_11ea_91ac_0242ac120002level1_row7\" class=\"row_heading level1 row7\" >10%</th> \n",
       "        <td id=\"T_91323f16_60cc_11ea_91ac_0242ac120002row7_col0\" class=\"data row7 col0\" >3.16725e+09</td> \n",
       "        <td id=\"T_91323f16_60cc_11ea_91ac_0242ac120002row7_col1\" class=\"data row7 col1\" >3.16725e+09</td> \n",
       "        <td id=\"T_91323f16_60cc_11ea_91ac_0242ac120002row7_col2\" class=\"data row7 col2\" >0.846667</td> \n",
       "        <td id=\"T_91323f16_60cc_11ea_91ac_0242ac120002row7_col3\" class=\"data row7 col3\" >0.838585</td> \n",
       "        <td id=\"T_91323f16_60cc_11ea_91ac_0242ac120002row7_col4\" class=\"data row7 col4\" >0.703125</td> \n",
       "        <td id=\"T_91323f16_60cc_11ea_91ac_0242ac120002row7_col5\" class=\"data row7 col5\" >0.631313</td> \n",
       "        <td id=\"T_91323f16_60cc_11ea_91ac_0242ac120002row7_col6\" class=\"data row7 col6\" >0.0328832</td> \n",
       "    </tr>    <tr> \n",
       "        <th id=\"T_91323f16_60cc_11ea_91ac_0242ac120002level1_row8\" class=\"row_heading level1 row8\" >100%</th> \n",
       "        <td id=\"T_91323f16_60cc_11ea_91ac_0242ac120002row8_col0\" class=\"data row8 col0\" >3.16725e+09</td> \n",
       "        <td id=\"T_91323f16_60cc_11ea_91ac_0242ac120002row8_col1\" class=\"data row8 col1\" >3.16725e+09</td> \n",
       "        <td id=\"T_91323f16_60cc_11ea_91ac_0242ac120002row8_col2\" class=\"data row8 col2\" >0.846667</td> \n",
       "        <td id=\"T_91323f16_60cc_11ea_91ac_0242ac120002row8_col3\" class=\"data row8 col3\" >0.841902</td> \n",
       "        <td id=\"T_91323f16_60cc_11ea_91ac_0242ac120002row8_col4\" class=\"data row8 col4\" >0.698529</td> \n",
       "        <td id=\"T_91323f16_60cc_11ea_91ac_0242ac120002row8_col5\" class=\"data row8 col5\" >0.64761</td> \n",
       "        <td id=\"T_91323f16_60cc_11ea_91ac_0242ac120002row8_col6\" class=\"data row8 col6\" >0.374413</td> \n",
       "    </tr></tbody> \n",
       "</table> "
      ],
      "text/plain": [
       "<pandas.io.formats.style.Styler at 0x7efeaf330630>"
      ]
     },
     "execution_count": 122,
     "metadata": {},
     "output_type": "execute_result"
    }
   ],
   "source": [
    "# create 3 dataframes from results dict and then use concat to merge\n",
    "\n",
    "rf = results['RandomForestClassifier']\n",
    "rf_df = pd.DataFrame.from_dict(rf, orient='index').rename(index= {0 : '1%', 1 : '10%', 2 : '100%'})\n",
    "rf_df['time_diff'] = abs(rf_df['train_time'] -rf_df['pred_time'])\n",
    "\n",
    "dt = results['DecisionTreeClassifier']\n",
    "dt_df = pd.DataFrame.from_dict(dt, orient='index').rename(index= {0 : '1%', 1 : '10%', 2 : '100%'})\n",
    "dt_df['time_diff'] = abs(dt_df['train_time'] - dt_df['pred_time'])\n",
    "\n",
    "lr = results['LogisticRegression']\n",
    "lr_df = pd.DataFrame.from_dict(lr, orient='index').rename(index= {0 : '1%', 1 : '10%', 2 : '100%'})\n",
    "lr_df['time_diff'] = abs(lr_df['train_time'] - lr_df['pred_time'])\n",
    "\n",
    "all_results = pd.concat([rf_df, dt_df, lr_df], axis=0 , \n",
    "                        keys=['random forest', 'decision tree', 'logistic regression'], \n",
    "                        names=['model', '% of data'])\n",
    "\n",
    "# create heatmap of df results\n",
    "\n",
    "cm = sns.light_palette(\"yellow\", as_cmap=True)\n",
    "all_results.style.background_gradient(cmap=cm)"
   ]
  },
  {
   "cell_type": "markdown",
   "metadata": {},
   "source": [
    "----\n",
    "## Improving Results\n",
    "In this final section, you will choose from the three supervised learning models the *best* model to use on the student data. You will then perform a grid search optimization for the model over the entire training set (`X_train` and `y_train`) by tuning at least one parameter to improve upon the untuned model's F-score. "
   ]
  },
  {
   "cell_type": "markdown",
   "metadata": {},
   "source": [
    "### Question 3 - Choosing the Best Model\n",
    "\n",
    "* Based on the evaluation you performed earlier, in one to two paragraphs, explain to *CharityML* which of the three models you believe to be most appropriate for the task of identifying individuals that make more than \\$50,000. \n",
    "\n",
    "Look at the graph at the bottom left from the cell above and check the F score for the testing set when 100% of the training set is used. Which model has the highest score? Your answer should include discussion of the:\n",
    "\n",
    "* metrics - F score on the testing when 100% of the training data is used, \n",
    "* prediction/training time\n",
    "* the algorithm's suitability for the data."
   ]
  },
  {
   "cell_type": "markdown",
   "metadata": {},
   "source": [
    "**Answer**: \n",
    "\n",
    "   The F score means that we are looking at a “harmonic” mean of our precision and recall. Specifically, we are  multiplying 2 by the numerator of precision times recall divided by our denominator of precision + recall. That “score” is a better indicator of how well the model did in terms of precision and recall as just taking the average is not a good indicator as is if p & r are very low. The harmonic mean is smaller than the arithmetic mean and that way it will be closer to the smallest number between precision and recall, which is more useful. So if you have a very low F1 score, this will help to alert you that either precision or recall is a lower number.  \n",
    "\n",
    "```\n",
    "F1 Score = 2 * (Precision+Recall/Precision∗Recall)\n",
    "```\n",
    "\n",
    "   From the graphs above we can see the highest F1 score for the test set when using 100% of the testing data, was from our RandomForestClassifier followed by, Logistic Regression and then Decision Trees. However, when we look at prediction and training time, the RandomForestClassifier was the most time consuming when using 100% of the testing data whereas, LogisticRegression was the least. Finally in terms of suitability of our data to either of these models, would be that our RandomForestClassifier is best suited for handling the binary like classification required outcome of predicting persons income and it can handle the number of features we have while as noted initially albeit the prediction times may be slower. Given the RF is seen as a part of an Ensemble Method we can fine tune our results adding in a boosting algorithm like Gradient Boosting or Ada Boosting."
   ]
  },
  {
   "cell_type": "markdown",
   "metadata": {},
   "source": [
    "### Question 4 - Describing the Model in Layman's Terms\n",
    "\n",
    "* In one to two paragraphs, explain to *CharityML*, in layman's terms, how the final model chosen is supposed to work. Be sure that you are describing the major qualities of the model, such as how the model is trained and how the model makes a prediction. Avoid using advanced mathematical jargon, such as describing equations."
   ]
  },
  {
   "cell_type": "markdown",
   "metadata": {},
   "source": [
    "**Answer:** \n",
    "\n",
    "   The model chosen for this project is a RandomForestClassifier which is part of the Ensembles methods sklearn library. Ensembles methods essentially coordinate the models to be used together such that the predictions of the weaker learners, \"or several base esimators built with a learning algorithm, improve generalizability over a single estimator [1]. There are two groups of ensemble methods, those which use averaging methods, and those using boosting methods. The RandomForestClassifier uses an averaging which means the estimators are built and then their predictions are averaged. \n",
    "\n",
    "   The RandomForestClassifier main feature is \"randomization\" and like bootstrapping from data analysis techniques, here we learn, \"each tree in the ensemble is built from a sample drawn with replacement\" [1] so, the best split of the data \"is found either from all input features or a random subset of size max features\" [1]. The best aspect to this classifier is that you reduce variance. A great article, summarized the process of how the algorithm works with this description, \"... with a set of decision trees from randomly selected subset of training data, it aggregates the votes from different decision trees to decide the final class of the test object\" [2]\n",
    "\n",
    "\n",
    "**CITATIONS:** \n",
    "1. Sklearn, \"1.11 Ensemble methods\", Reference: https://scikit-learn.org/stable/modules/ensemble.html\n",
    "2. S. Patel, Medium, \"Chapter 5: Random Forest Classifier\", May 18, 2017, Reference: https://medium.com/machine-learning-101/chapter-5-random-forest-classifier-56dc7425c3e1"
   ]
  },
  {
   "cell_type": "markdown",
   "metadata": {},
   "source": [
    "### Implementation: Model Tuning\n",
    "Fine tune the chosen model. Use grid search (`GridSearchCV`) with at least one important parameter tuned with at least 3 different values. You will need to use the entire training set for this. In the code cell below, you will need to implement the following:\n",
    "- Import [`sklearn.grid_search.GridSearchCV`](http://scikit-learn.org/0.17/modules/generated/sklearn.grid_search.GridSearchCV.html) and [`sklearn.metrics.make_scorer`](http://scikit-learn.org/stable/modules/generated/sklearn.metrics.make_scorer.html).\n",
    "- Initialize the classifier you've chosen and store it in `clf`.\n",
    " - Set a `random_state` if one is available to the same state you set before.\n",
    "- Create a dictionary of parameters you wish to tune for the chosen model.\n",
    " - Example: `parameters = {'parameter' : [list of values]}`.\n",
    " - **Note:** Avoid tuning the `max_features` parameter of your learner if that parameter is available!\n",
    "- Use `make_scorer` to create an `fbeta_score` scoring object (with $\\beta = 0.5$).\n",
    "- Perform grid search on the classifier `clf` using the `'scorer'`, and store it in `grid_obj`.\n",
    "- Fit the grid search object to the training data (`X_train`, `y_train`), and store it in `grid_fit`."
   ]
  },
  {
   "cell_type": "markdown",
   "metadata": {},
   "source": [
    "#### Understanding Random Forest hyperparameters: \n",
    "\n",
    "```\n",
    "RandomForestClassifier(bootstrap=True, class_weight=None, criterion='entropy',\n",
    "            max_depth=2, max_features='auto', max_leaf_nodes=None,\n",
    "            min_impurity_decrease=0.0, min_impurity_split=None,\n",
    "            min_samples_leaf=1, min_samples_split=2,\n",
    "            min_weight_fraction_leaf=0.0, n_estimators=10, n_jobs=1,\n",
    "            oob_score=False, random_state=None, verbose=0,\n",
    "            warm_start=False)\n",
    "```\n",
    "\n",
    "```\n",
    "Check the list of available parameters with `estimator.get_params().keys()\n",
    "```\n"
   ]
  },
  {
   "cell_type": "code",
   "execution_count": 124,
   "metadata": {},
   "outputs": [
    {
     "name": "stdout",
     "output_type": "stream",
     "text": [
      "Unoptimized model\n",
      "------\n",
      "Accuracy score on testing data: 0.8347\n",
      "F-score on testing data: 0.6646\n",
      "\n",
      "Optimized Model\n",
      "------\n",
      "Final accuracy score on the testing data: 0.8557\n",
      "Final F-score on the testing data: 0.7280\n"
     ]
    }
   ],
   "source": [
    "from sklearn.model_selection import GridSearchCV\n",
    "from sklearn.metrics import f1_score, make_scorer\n",
    "\n",
    "clf = RandomForestClassifier() \n",
    "\n",
    "rf_parameters = {'n_estimators': [500],   # random forest parameters \n",
    "              'max_depth': [2,4,6,8,10], \n",
    "              'min_samples_split': [4], \n",
    "              'min_samples_leaf': [2]}\n",
    "\n",
    "# ada_parameters = {'n_estimators': [50, 100],   # ada boost parameters\n",
    "#               'learning_rate': [0.1, 0.5, 1],\n",
    "#               'random_state': [42]}\n",
    "\n",
    "scorer = make_scorer(fbeta_score,beta=0.5)\n",
    "\n",
    "grid_obj = GridSearchCV(clf, rf_parameters, scoring=scorer) \n",
    "\n",
    "grid_fit = grid_obj.fit(X_train, y_train)\n",
    "\n",
    "best_clf = grid_fit.best_estimator_\n",
    "\n",
    "# Make predictions using the unoptimized and model\n",
    "predictions = (clf.fit(X_train, y_train)).predict(X_test)\n",
    "best_predictions = best_clf.predict(X_test)\n",
    "\n",
    "print(\"Unoptimized model\\n------\")\n",
    "print(\"Accuracy score on testing data: {:.4f}\".format(accuracy_score(y_test, predictions)))\n",
    "print(\"F-score on testing data: {:.4f}\".format(fbeta_score(y_test, predictions, beta = 0.5)))\n",
    "print(\"\\nOptimized Model\\n------\")\n",
    "print(\"Final accuracy score on the testing data: {:.4f}\".format(accuracy_score(y_test, best_predictions)))\n",
    "print(\"Final F-score on the testing data: {:.4f}\".format(fbeta_score(y_test, best_predictions, beta = 0.5)))"
   ]
  },
  {
   "cell_type": "markdown",
   "metadata": {},
   "source": [
    "### Question 5 - Final Model Evaluation\n",
    "\n",
    "* What is your optimized model's accuracy and F-score on the testing data? \n",
    "* Are these scores better or worse than the unoptimized model? \n",
    "* How do the results from your optimized model compare to the naive predictor benchmarks you found earlier in **Question 1**? "
   ]
  },
  {
   "cell_type": "markdown",
   "metadata": {},
   "source": [
    "#### Results:\n",
    "\n",
    "|     Metric     | Unoptimized Model | Optimized Model | Unopt/Opt Diff | Naive Bayes  | N Diff |\n",
    "| :------------: | :---------------: | :-------------: | :------------: | :----------: | :-----:|\n",
    "| Accuracy Score |  0.844            |  0.855          |  0.011         |  0.249       |  0.606 |\n",
    "| F-score        |  0.686            |  0.728          |  0.042         |  0.332       |  0.396 |\n"
   ]
  },
  {
   "cell_type": "markdown",
   "metadata": {},
   "source": [
    "#### Viewing diffs between accuracy, f_score and naive scores"
   ]
  },
  {
   "cell_type": "code",
   "execution_count": 112,
   "metadata": {},
   "outputs": [
    {
     "name": "stdout",
     "output_type": "stream",
     "text": [
      "('0.011', '0.042')\n",
      "('0.606', '0.396')\n"
     ]
    }
   ],
   "source": [
    "acc_diff = 0.855- 0.844\n",
    "f_diff = 0.728- 0.686 \n",
    "print((format(acc_diff,'.3f'), format(f_diff, '.3f')))\n",
    "\n",
    "naive_acc_diff = 0.855-0.249\n",
    "naive_f_diff = 0.728- 0.332\n",
    "print((format(naive_acc_diff,'.3f'), format(naive_f_diff, '.3f')))"
   ]
  },
  {
   "cell_type": "markdown",
   "metadata": {},
   "source": [
    "**Answer:**\n",
    "1. **What is your optimized model's accuracy and F-score on the testing data?:** \n",
    "\n",
    "    * The RandomForestClassifier model's optimized _accuracy score_ on the testing data was 85% while the _F-score_ was 72%\n",
    "    \n",
    "    \n",
    "2. **Are these scores better or worse than the unoptimized model?:** \n",
    "\n",
    "    * These scores are only \"slightly\" better than the optimized model, with accuracy a 0.11 or 1.1% increase and f score a 0.42 or 4.2% increase.  \n",
    "    \n",
    "    \n",
    "3. **How do the results from your optimized model compare to the naive predictor benchmarks you found earlier in Question 1?:**\n",
    "\n",
    "    * The Naive Bayes predictor used from earlier in the first question had an accuracy of 0.249 and f score of 0.33 so the increase from the optimized model was 60% on accuracy and 39% on f score."
   ]
  },
  {
   "cell_type": "markdown",
   "metadata": {},
   "source": [
    "----\n",
    "## Feature Importance\n",
    "\n",
    "An important task when performing supervised learning on a dataset like the census data we study here is determining which features provide the most predictive power. By focusing on the relationship between only a few crucial features and the target label we simplify our understanding of the phenomenon, which is most always a useful thing to do. In the case of this project, that means we wish to identify a small number of features that most strongly predict whether an individual makes at most or more than \\$50,000.\n",
    "\n",
    "Choose a scikit-learn classifier (e.g., adaboost, random forests) that has a `feature_importance_` attribute, which is a function that ranks the importance of features according to the chosen classifier.  In the next python cell fit this classifier to training set and use this attribute to determine the top 5 most important features for the census dataset."
   ]
  },
  {
   "cell_type": "markdown",
   "metadata": {},
   "source": [
    "### Question 6 - Feature Relevance Observation\n",
    "When **Exploring the Data**, it was shown there are thirteen available features for each individual on record in the census data. Of these thirteen records, which five features do you believe to be most important for prediction, and in what order would you rank them and why?"
   ]
  },
  {
   "cell_type": "code",
   "execution_count": 113,
   "metadata": {},
   "outputs": [
    {
     "data": {
      "text/plain": [
       "Index(['age', 'workclass', 'education_level', 'education-num',\n",
       "       'marital-status', 'occupation', 'relationship', 'race', 'sex',\n",
       "       'capital-gain', 'capital-loss', 'hours-per-week', 'native-country',\n",
       "       'income'],\n",
       "      dtype='object')"
      ]
     },
     "execution_count": 113,
     "metadata": {},
     "output_type": "execute_result"
    }
   ],
   "source": [
    "data.columns"
   ]
  },
  {
   "cell_type": "markdown",
   "metadata": {},
   "source": [
    "**Answer:**\n",
    "    The following top five of the thirteen features from our dataset, are listed below with reasons for imporance and why they were chosen. \n",
    "    \n",
    "   1. **Workclass** _[Private, Self-emp-not-inc, Self-emp-inc, Federal-gov, Local-gov, State-gov, Without-pay, Never-worked]_:\n",
    "       - Working class as unfortunate as it may sound in that we put people into \"classes\" of working groups which seem as if they are static are a very important factor for achieving a salary level exceeding 50,000 annually. For example, those who may have obtained wealth privately from their family inheritence for example, have an enormous advantage over those who are working in the government or employed. Quantifying this advantage would require further analysis of our national salary data but, from experience alone in the workforce it can be exponential which speaks to the severity of predictiveness on these \"classes\". This was chosen as the top feature because of the inflexibility this status or \"label\" provides and when one does change their working class, it's usually or typically for a longer term. \n",
    "       \n",
    "       \n",
    "   2. **Education** _[Bachelors, Some-college, 11th, HS-grad, Prof-school, Assoc-acdm, Assoc-voc, 9th, 7th-8th, 12th, Masters, 1st-4th, 10th, Doctorate, 5th-6th, Preschool]_:\n",
    "       - Education level is another important feature in that when receiving \"higher education\" from a Masters, or Doctorate, there is an advantage to these groups of people that is different from what a Bachelors or less might recieve. Again, being able to quantify this \"advantage\" would require more analysis but, when you are in the workforce and see others who seem to \"have\" this \"higher knowledge\" whether it's in meetings, or written memos you realize they have more responsibility for a reason. This is also now changing because of free education online however, the statistical significance remains to be seen. This was chosen as the second top feature because it's one of the most significant decisions a person makes in their life mentally and monetarily but, has high reward albeit debt risk.\n",
    "       \n",
    "       \n",
    "   \n",
    "   3. **capital-loss** _[continuous]_: \n",
    "       - The term capital loss refers to the loss \"incurred when a capital asset such as investment or real estate, decreases in value. This loss is not realized until the asset is sold for a price that is lower than its original price.[1] This would be a positive indicator for the model that this person is not viable candidate to donate. This was chosen as the third top feature because of the negative immediate impact it could have on the persons monetary evaluation or assessment by the model. \n",
    "   \n",
    "   \n",
    "   \n",
    "   \n",
    "   4. **capital-gain** _[continuous]_:\n",
    "       - The term capital gain \"is a rise in the value of a capital asset which can be real estate or an investment, that gives a higher worth than the purchase price.[2] This would be a positive indicator for the model that this person may be a viable candidate to donate given they are seeing increase in their income or overall evaluation. The reason this was chosen as the fourth top feature is because of the most positive impact it can has on the assessment by the model. \n",
    "   \n",
    "   \n",
    "   \n",
    "  \n",
    "   5. **sex** _[Male, Female]_:\n",
    "       - Unfortunately, I do believe gender is a factor in determining whether a person is able or unable to achieve a higher level of income. This was chosen as the last top feature because it is not completely 100% an indicator but, can have significance on that threshold or rather the difference between as little as a 10,000 gap between male and female or at most a 50,000 or more.\n",
    "       \n",
    "\n",
    "**CITATIONS:** \n",
    "1. J. Chen, _\"Capital Loss\"_, Investopedia, Reference: https://www.investopedia.com/terms/c/capitalloss.asp\n",
    "2.  J. Chen, _\"Capital Gain\"_, Investopedia, Reference: https://www.investopedia.com/terms/c/capitalgain.asp"
   ]
  },
  {
   "cell_type": "markdown",
   "metadata": {},
   "source": [
    "### Implementation - Extracting Feature Importance\n",
    "Choose a `scikit-learn` supervised learning algorithm that has a `feature_importance_` attribute availble for it. This attribute is a function that ranks the importance of each feature when making predictions based on the chosen algorithm.\n",
    "\n",
    "In the code cell below, you will need to implement the following:\n",
    " - Import a supervised learning model from sklearn if it is different from the three used earlier.\n",
    " - Train the supervised model on the entire training set.\n",
    " - Extract the feature importances using `'.feature_importances_'`."
   ]
  },
  {
   "cell_type": "code",
   "execution_count": 114,
   "metadata": {},
   "outputs": [
    {
     "data": {
      "image/png": "[encoded data removed]",
      "text/plain": [
       "<matplotlib.figure.Figure at 0x7efea86dd4e0>"
      ]
     },
     "metadata": {
      "needs_background": "light"
     },
     "output_type": "display_data"
    }
   ],
   "source": [
    "# train the supervised model on the training set using .fit(X_train, y_train)\n",
    "model = AdaBoostClassifier().fit(X_train, y_train)\n",
    "\n",
    "# TODO: Extract the feature importances using .feature_importances_ \n",
    "importances = model.feature_importances_ \n",
    "\n",
    "# Plot\n",
    "vs.feature_plot(importances, X_train, y_train)"
   ]
  },
  {
   "cell_type": "markdown",
   "metadata": {},
   "source": [
    "### Question 7 - Extracting Feature Importance\n",
    "\n",
    "Observe the visualization created above which displays the five most relevant features for predicting if an individual makes at most or above \\$50,000.  \n",
    "* How do these five features compare to the five features you discussed in **Question 6**?\n",
    "* If you were close to the same answer, how does this visualization confirm your thoughts? \n",
    "* If you were not close, why do you think these features are more relevant?"
   ]
  },
  {
   "cell_type": "markdown",
   "metadata": {},
   "source": [
    "**Answer:**\n",
    "\n",
    "1. **How do these five features compare to the five features you discussed in Question 6?**\n",
    "    - I received a 2/3 in comparison to the feature importance extraction using the AdaBoostClassifier(). \n",
    "    \n",
    "    \n",
    "2. **If you were close to the same answer, how does this visualization confirm your thoughts?**\n",
    "    - The capital loss and capital gain were exactly what I chose however, in terms of ranking, they were lower on the list at 3 and 4 out of 5. This visualization helps me to see that capital loss is actually more important in fact the most important feature to determining income level. I did note education as the 2 on my list so the \"education num\" I believe refers to the count of education levels you've received so that was similar. \n",
    "    \n",
    "    \n",
    "3. **If you were not close, why do you think these features are more relevant?**\n",
    "    - I was not close at all with regard to \"age\" or \"hours per week\" however, and I still feel working class is an indicator however, I realize now maybe it's not as much \"weight\" of an indicator than I thought. I suppose \"age\" is a factor in which you tend to increase your salary as you age however, I still believe \"gender or sex\" can be that difference of a small gap or big gap that is significant enough to help the model.  "
   ]
  },
  {
   "cell_type": "markdown",
   "metadata": {},
   "source": [
    "### Feature Selection\n",
    "How does a model perform if we only use a subset of all the available features in the data? With less features required to train, the expectation is that training and prediction time is much lower — at the cost of performance metrics. From the visualization above, we see that the top five most important features contribute more than half of the importance of **all** features present in the data. This hints that we can attempt to *reduce the feature space* and simplify the information required for the model to learn. The code cell below will use the same optimized model you found earlier, and train it on the same training set *with only the top five important features*. "
   ]
  },
  {
   "cell_type": "code",
   "execution_count": 115,
   "metadata": {},
   "outputs": [
    {
     "name": "stdout",
     "output_type": "stream",
     "text": [
      "Final Model trained on full data\n",
      "------\n",
      "Accuracy on testing data: 0.8553\n",
      "F-score on testing data: 0.7271\n",
      "\n",
      "Final Model trained on reduced data\n",
      "------\n",
      "Accuracy on testing data: 0.8322\n",
      "F-score on testing data: 0.6729\n"
     ]
    }
   ],
   "source": [
    "from sklearn.base import clone\n",
    "\n",
    "# reduce the feature space\n",
    "X_train_reduced = X_train[X_train.columns.values[(np.argsort(importances)[::-1])[:5]]]\n",
    "X_test_reduced = X_test[X_test.columns.values[(np.argsort(importances)[::-1])[:5]]]\n",
    "\n",
    "# train on the \"best\" model found from grid search earlier\n",
    "clf = (clone(best_clf)).fit(X_train_reduced, y_train)\n",
    "\n",
    "# make new predictions\n",
    "reduced_predictions = clf.predict(X_test_reduced)\n",
    "\n",
    "# Report scores from the final model using both versions of data\n",
    "print(\"Final Model trained on full data\\n------\")\n",
    "print(\"Accuracy on testing data: {:.4f}\".format(accuracy_score(y_test, best_predictions)))\n",
    "print(\"F-score on testing data: {:.4f}\".format(fbeta_score(y_test, best_predictions, beta = 0.5)))\n",
    "print(\"\\nFinal Model trained on reduced data\\n------\")\n",
    "print(\"Accuracy on testing data: {:.4f}\".format(accuracy_score(y_test, reduced_predictions)))\n",
    "print(\"F-score on testing data: {:.4f}\".format(fbeta_score(y_test, reduced_predictions, beta = 0.5)))"
   ]
  },
  {
   "cell_type": "markdown",
   "metadata": {},
   "source": [
    "### Question 8 - Effects of Feature Selection\n",
    "\n",
    "* How does the final model's F-score and accuracy score on the reduced data using only five features compare to those same scores when all features are used?\n",
    "* If training time was a factor, would you consider using the reduced data as your training set?"
   ]
  },
  {
   "cell_type": "code",
   "execution_count": 116,
   "metadata": {},
   "outputs": [
    {
     "name": "stdout",
     "output_type": "stream",
     "text": [
      "('0.011', '0.042')\n"
     ]
    }
   ],
   "source": [
    "acc_diff_final = 0.855- 0.8320\n",
    "f_diff_final = 0.728 - 0.6719\n",
    "print((format(acc_diff,'.3f'), format(f_diff, '.3f')))"
   ]
  },
  {
   "cell_type": "code",
   "execution_count": 117,
   "metadata": {},
   "outputs": [
    {
     "name": "stdout",
     "output_type": "stream",
     "text": [
      "('0.011', '0.042')\n"
     ]
    }
   ],
   "source": [
    "ada_rf_acc_diff = 0.86 - 0.855\n",
    "ada_rf_f_diff = 0.731 - 0.728\n",
    "print((format(acc_diff,'.3f'), format(f_diff, '.3f')))"
   ]
  },
  {
   "cell_type": "markdown",
   "metadata": {},
   "source": [
    "**Answer:**\n",
    "\n",
    "1. **How does the final model's F-score and accuracy score on the reduced data using only five features compare to those same scores when all features are used?**\n",
    "    - Unfortunately, the f score on the final model using reduced data was less than the Random Forest Classifier optimized model on full data and there was no change on the final model full data comparison. \n",
    "2. **If training time was a factor, would you consider using the reduced data as your training set?**\n",
    "    - No, I would not use the reduced data as a training set, and I already tested the AdaBoostClassifier as another potential model in place of the RandomForestClassifier which had a optimized model accuracy score of 86% and f score of 73% however, this was just about the same of an increase as we saw earlier, and the negative was the AdaBoostClassifier train and prediction time was two times as longer as both the LogisticRegressionClassifier or the DecisionTreeClassifier so that may not be the best solution after all. "
   ]
  },
  {
   "cell_type": "markdown",
   "metadata": {},
   "source": [
    "## Before You Submit\n",
    "You will also need run the following in order to convert the Jupyter notebook into HTML, so that your submission will include both files."
   ]
  },
  {
   "cell_type": "code",
   "execution_count": 125,
   "metadata": {},
   "outputs": [
    {
     "data": {
      "text/plain": [
       "['[NbConvertApp] Converting notebook finding_donors.ipynb to html',\n",
       " '[NbConvertApp] Writing 544518 bytes to finding_donors.html']"
      ]
     },
     "execution_count": 125,
     "metadata": {},
     "output_type": "execute_result"
    }
   ],
   "source": [
    "!!jupyter nbconvert *.ipynb"
   ]
  },
  {
   "cell_type": "code",
   "execution_count": null,
   "metadata": {},
   "outputs": [],
   "source": []
  }
 ],
 "metadata": {
  "kernelspec": {
   "display_name": "Python 3",
   "language": "python",
   "name": "python3"
  },
  "language_info": {
   "codemirror_mode": {
    "name": "ipython",
    "version": 3
   },
   "file_extension": ".py",
   "mimetype": "text/x-python",
   "name": "python",
   "nbconvert_exporter": "python",
   "pygments_lexer": "ipython3",
   "version": "3.6.3"
  }
 },
 "nbformat": 4,
 "nbformat_minor": 1
}
